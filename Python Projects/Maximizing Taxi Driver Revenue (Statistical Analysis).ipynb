{
 "cells": [
  {
   "cell_type": "markdown",
   "id": "2555155b-51f1-41d9-b2f6-02b736c5fcb1",
   "metadata": {},
   "source": [
    "## Maximizing Revenue for Taxi Cab Drivers through Payment Type Analysis"
   ]
  },
  {
   "cell_type": "markdown",
   "id": "b909ce9a-9563-423f-92d3-789c03ce6fdb",
   "metadata": {},
   "source": [
    "### Problem Statement"
   ]
  },
  {
   "cell_type": "raw",
   "id": "b1b7cb66-28f5-4b80-a5d4-9688886af498",
   "metadata": {},
   "source": [
    "In the fast paced taxi booking sector, making the most of revenue is essential for long-term success and driver happiness. Our goal is to use data driven insights to maximize revenue streams for taxi drivers in order to meet the need. Our research aims to determine whether payment methods have an impact on fare pricing by focusing on the relationship between payment type and fare amount. "
   ]
  },
  {
   "cell_type": "markdown",
   "id": "8cdb2327-e47d-466b-aa0e-95441f76f312",
   "metadata": {},
   "source": [
    "### Objective"
   ]
  },
  {
   "cell_type": "raw",
   "id": "af1f6b9d-0a5d-43f1-bd20-3248c7bd8425",
   "metadata": {},
   "source": [
    "This project's main goal is to run an A/B test to examine the relationship between the total fare amount and the payment methods. We use python hypothesis testing  and descriptive analysis to extract useful information that can help taxi drivers generate more cash. In particular, we want to find out if there is a big difference in the fares for those who pay with credit card vs who pays with cash. "
   ]
  },
  {
   "cell_type": "markdown",
   "id": "4c86b04f-6bfa-493f-b610-c02d1f580fb4",
   "metadata": {},
   "source": [
    "### Research Question"
   ]
  },
  {
   "cell_type": "raw",
   "id": "d1f8597e-b0bf-4b26-a14c-a865b292a36d",
   "metadata": {},
   "source": [
    "Is there a relationship between payment type and total fare amount and can we nudge customers towards payment types that generate higher revenuw for drivers, without negatively impacting customer experience?"
   ]
  },
  {
   "cell_type": "markdown",
   "id": "6ce2d33f-81e2-40e4-8e89-d69340bc1fdc",
   "metadata": {},
   "source": [
    "### Importing Libraries"
   ]
  },
  {
   "cell_type": "code",
   "execution_count": 364,
   "id": "8a161999-8f45-4495-ab77-197849d02552",
   "metadata": {},
   "outputs": [],
   "source": [
    "import pandas as pd\n",
    "import matplotlib.pyplot as plt\n",
    "import seaborn as sns\n",
    "import scipy.stats as st\n",
    "import statsmodels.api as sm\n",
    "import warnings\n",
    "warnings.filterwarnings('ignore')"
   ]
  },
  {
   "cell_type": "markdown",
   "id": "dfb0bfe1-8f6a-4eca-bbad-b8349dc51ab2",
   "metadata": {},
   "source": [
    "### Loading the dataset"
   ]
  },
  {
   "cell_type": "code",
   "execution_count": 372,
   "id": "3066ba84-ffb2-425c-af75-ed15ba07ecac",
   "metadata": {},
   "outputs": [
    {
     "data": {
      "text/html": [
       "<div>\n",
       "<style scoped>\n",
       "    .dataframe tbody tr th:only-of-type {\n",
       "        vertical-align: middle;\n",
       "    }\n",
       "\n",
       "    .dataframe tbody tr th {\n",
       "        vertical-align: top;\n",
       "    }\n",
       "\n",
       "    .dataframe thead th {\n",
       "        text-align: right;\n",
       "    }\n",
       "</style>\n",
       "<table border=\"1\" class=\"dataframe\">\n",
       "  <thead>\n",
       "    <tr style=\"text-align: right;\">\n",
       "      <th></th>\n",
       "      <th>VendorID</th>\n",
       "      <th>tpep_pickup_datetime</th>\n",
       "      <th>tpep_dropoff_datetime</th>\n",
       "      <th>passenger_count</th>\n",
       "      <th>trip_distance</th>\n",
       "      <th>RatecodeID</th>\n",
       "      <th>store_and_fwd_flag</th>\n",
       "      <th>PULocationID</th>\n",
       "      <th>DOLocationID</th>\n",
       "      <th>payment_type</th>\n",
       "      <th>fare_amount</th>\n",
       "      <th>extra</th>\n",
       "      <th>mta_tax</th>\n",
       "      <th>tip_amount</th>\n",
       "      <th>tolls_amount</th>\n",
       "      <th>improvement_surcharge</th>\n",
       "      <th>total_amount</th>\n",
       "      <th>congestion_surcharge</th>\n",
       "    </tr>\n",
       "  </thead>\n",
       "  <tbody>\n",
       "    <tr>\n",
       "      <th>0</th>\n",
       "      <td>1.0</td>\n",
       "      <td>01/01/2020 12:28:15 AM</td>\n",
       "      <td>01/01/2020 12:33:03 AM</td>\n",
       "      <td>1.0</td>\n",
       "      <td>1.2</td>\n",
       "      <td>1.0</td>\n",
       "      <td>N</td>\n",
       "      <td>238</td>\n",
       "      <td>239</td>\n",
       "      <td>1.0</td>\n",
       "      <td>6.0</td>\n",
       "      <td>3.0</td>\n",
       "      <td>0.5</td>\n",
       "      <td>1.47</td>\n",
       "      <td>0.0</td>\n",
       "      <td>0.3</td>\n",
       "      <td>11.27</td>\n",
       "      <td>2.5</td>\n",
       "    </tr>\n",
       "    <tr>\n",
       "      <th>1</th>\n",
       "      <td>1.0</td>\n",
       "      <td>01/01/2020 12:35:39 AM</td>\n",
       "      <td>01/01/2020 12:43:04 AM</td>\n",
       "      <td>1.0</td>\n",
       "      <td>1.2</td>\n",
       "      <td>1.0</td>\n",
       "      <td>N</td>\n",
       "      <td>239</td>\n",
       "      <td>238</td>\n",
       "      <td>1.0</td>\n",
       "      <td>7.0</td>\n",
       "      <td>3.0</td>\n",
       "      <td>0.5</td>\n",
       "      <td>1.50</td>\n",
       "      <td>0.0</td>\n",
       "      <td>0.3</td>\n",
       "      <td>12.30</td>\n",
       "      <td>2.5</td>\n",
       "    </tr>\n",
       "    <tr>\n",
       "      <th>2</th>\n",
       "      <td>1.0</td>\n",
       "      <td>01/01/2020 12:47:41 AM</td>\n",
       "      <td>01/01/2020 12:53:52 AM</td>\n",
       "      <td>1.0</td>\n",
       "      <td>0.6</td>\n",
       "      <td>1.0</td>\n",
       "      <td>N</td>\n",
       "      <td>238</td>\n",
       "      <td>238</td>\n",
       "      <td>1.0</td>\n",
       "      <td>6.0</td>\n",
       "      <td>3.0</td>\n",
       "      <td>0.5</td>\n",
       "      <td>1.00</td>\n",
       "      <td>0.0</td>\n",
       "      <td>0.3</td>\n",
       "      <td>10.80</td>\n",
       "      <td>2.5</td>\n",
       "    </tr>\n",
       "    <tr>\n",
       "      <th>3</th>\n",
       "      <td>1.0</td>\n",
       "      <td>01/01/2020 12:55:23 AM</td>\n",
       "      <td>01/01/2020 01:00:14 AM</td>\n",
       "      <td>1.0</td>\n",
       "      <td>0.8</td>\n",
       "      <td>1.0</td>\n",
       "      <td>N</td>\n",
       "      <td>238</td>\n",
       "      <td>151</td>\n",
       "      <td>1.0</td>\n",
       "      <td>5.5</td>\n",
       "      <td>0.5</td>\n",
       "      <td>0.5</td>\n",
       "      <td>1.36</td>\n",
       "      <td>0.0</td>\n",
       "      <td>0.3</td>\n",
       "      <td>8.16</td>\n",
       "      <td>0.0</td>\n",
       "    </tr>\n",
       "    <tr>\n",
       "      <th>4</th>\n",
       "      <td>2.0</td>\n",
       "      <td>01/01/2020 12:01:58 AM</td>\n",
       "      <td>01/01/2020 12:04:16 AM</td>\n",
       "      <td>1.0</td>\n",
       "      <td>0.0</td>\n",
       "      <td>1.0</td>\n",
       "      <td>N</td>\n",
       "      <td>193</td>\n",
       "      <td>193</td>\n",
       "      <td>2.0</td>\n",
       "      <td>3.5</td>\n",
       "      <td>0.5</td>\n",
       "      <td>0.5</td>\n",
       "      <td>0.00</td>\n",
       "      <td>0.0</td>\n",
       "      <td>0.3</td>\n",
       "      <td>4.80</td>\n",
       "      <td>0.0</td>\n",
       "    </tr>\n",
       "  </tbody>\n",
       "</table>\n",
       "</div>"
      ],
      "text/plain": [
       "   VendorID    tpep_pickup_datetime   tpep_dropoff_datetime  passenger_count  \\\n",
       "0       1.0  01/01/2020 12:28:15 AM  01/01/2020 12:33:03 AM              1.0   \n",
       "1       1.0  01/01/2020 12:35:39 AM  01/01/2020 12:43:04 AM              1.0   \n",
       "2       1.0  01/01/2020 12:47:41 AM  01/01/2020 12:53:52 AM              1.0   \n",
       "3       1.0  01/01/2020 12:55:23 AM  01/01/2020 01:00:14 AM              1.0   \n",
       "4       2.0  01/01/2020 12:01:58 AM  01/01/2020 12:04:16 AM              1.0   \n",
       "\n",
       "   trip_distance  RatecodeID store_and_fwd_flag  PULocationID  DOLocationID  \\\n",
       "0            1.2         1.0                  N           238           239   \n",
       "1            1.2         1.0                  N           239           238   \n",
       "2            0.6         1.0                  N           238           238   \n",
       "3            0.8         1.0                  N           238           151   \n",
       "4            0.0         1.0                  N           193           193   \n",
       "\n",
       "   payment_type  fare_amount  extra  mta_tax  tip_amount  tolls_amount  \\\n",
       "0           1.0          6.0    3.0      0.5        1.47           0.0   \n",
       "1           1.0          7.0    3.0      0.5        1.50           0.0   \n",
       "2           1.0          6.0    3.0      0.5        1.00           0.0   \n",
       "3           1.0          5.5    0.5      0.5        1.36           0.0   \n",
       "4           2.0          3.5    0.5      0.5        0.00           0.0   \n",
       "\n",
       "   improvement_surcharge  total_amount  congestion_surcharge  \n",
       "0                    0.3         11.27                   2.5  \n",
       "1                    0.3         12.30                   2.5  \n",
       "2                    0.3         10.80                   2.5  \n",
       "3                    0.3          8.16                   0.0  \n",
       "4                    0.3          4.80                   0.0  "
      ]
     },
     "execution_count": 372,
     "metadata": {},
     "output_type": "execute_result"
    }
   ],
   "source": [
    "df = pd.read_csv('2020_Yellow_Taxi_Trip_Data.csv')\n",
    "df.head()"
   ]
  },
  {
   "cell_type": "markdown",
   "id": "c5c03242-3186-449c-8cf9-b151c3f83a78",
   "metadata": {},
   "source": [
    "### Exploratory Data Analysis"
   ]
  },
  {
   "cell_type": "raw",
   "id": "3658274d-23a0-4ebf-901f-e74831cc473b",
   "metadata": {},
   "source": [
    "Exploring the data, cleaning, transforming, filtering the necessary data, handling missing values etc. "
   ]
  },
  {
   "cell_type": "code",
   "execution_count": 293,
   "id": "8e081199-4066-43cd-9d5f-966577670cfc",
   "metadata": {},
   "outputs": [
    {
     "data": {
      "text/plain": [
       "(355174, 18)"
      ]
     },
     "execution_count": 293,
     "metadata": {},
     "output_type": "execute_result"
    }
   ],
   "source": [
    "df.shape"
   ]
  },
  {
   "cell_type": "code",
   "execution_count": 295,
   "id": "202f34a5-dffc-4200-9643-f83e40a6537b",
   "metadata": {},
   "outputs": [
    {
     "data": {
      "text/plain": [
       "VendorID                 float64\n",
       "tpep_pickup_datetime      object\n",
       "tpep_dropoff_datetime     object\n",
       "passenger_count          float64\n",
       "trip_distance            float64\n",
       "RatecodeID               float64\n",
       "store_and_fwd_flag        object\n",
       "PULocationID               int64\n",
       "DOLocationID               int64\n",
       "payment_type             float64\n",
       "fare_amount              float64\n",
       "extra                    float64\n",
       "mta_tax                  float64\n",
       "tip_amount               float64\n",
       "tolls_amount             float64\n",
       "improvement_surcharge    float64\n",
       "total_amount             float64\n",
       "congestion_surcharge     float64\n",
       "dtype: object"
      ]
     },
     "execution_count": 295,
     "metadata": {},
     "output_type": "execute_result"
    }
   ],
   "source": [
    "df.dtypes"
   ]
  },
  {
   "cell_type": "markdown",
   "id": "64169493-56c2-40d8-a4d3-0694c786c032",
   "metadata": {},
   "source": [
    "##### Features that might affect the fare of the trip."
   ]
  },
  {
   "cell_type": "raw",
   "id": "caf6ead6-0b59-4ddb-96cb-676a2fd629d5",
   "metadata": {},
   "source": [
    "Distance, duration - pickup_time, drop_time etc\n",
    "\n",
    "Duration is not given though, so, we can calculate it. "
   ]
  },
  {
   "cell_type": "code",
   "execution_count": 374,
   "id": "0bafbe37-1843-4d6c-9573-029e9e3d31e8",
   "metadata": {},
   "outputs": [],
   "source": [
    "df['tpep_pickup_datetime'] = pd.to_datetime(df['tpep_pickup_datetime'])\n",
    "df['tpep_dropoff_datetime'] = pd.to_datetime(df['tpep_dropoff_datetime'])\n"
   ]
  },
  {
   "cell_type": "code",
   "execution_count": 376,
   "id": "f2746822-b872-44cf-a2ef-a53dfe5ff7db",
   "metadata": {},
   "outputs": [
    {
     "data": {
      "text/plain": [
       "0          4.800000\n",
       "1          7.416667\n",
       "2          6.183333\n",
       "3          4.850000\n",
       "4          2.300000\n",
       "            ...    \n",
       "355169     3.233333\n",
       "355170     5.483333\n",
       "355171     5.733333\n",
       "355172    13.483333\n",
       "355173     8.500000\n",
       "Name: duration, Length: 355174, dtype: float64"
      ]
     },
     "execution_count": 376,
     "metadata": {},
     "output_type": "execute_result"
    }
   ],
   "source": [
    "df['duration'] = df['tpep_dropoff_datetime'] - df['tpep_pickup_datetime']\n",
    "df['duration'] = df['duration'].dt.total_seconds()/60     # dividing by 60 gives the duration in mins\n",
    "df['duration']"
   ]
  },
  {
   "cell_type": "markdown",
   "id": "dafd80e6-3652-4585-bdef-0ea16f36bf74",
   "metadata": {},
   "source": [
    "##### Extracting the necessary data from the dataframe"
   ]
  },
  {
   "cell_type": "code",
   "execution_count": 378,
   "id": "5f4ed80f-daa3-40ff-9e65-0d6a5d7e3451",
   "metadata": {},
   "outputs": [
    {
     "data": {
      "text/html": [
       "<div>\n",
       "<style scoped>\n",
       "    .dataframe tbody tr th:only-of-type {\n",
       "        vertical-align: middle;\n",
       "    }\n",
       "\n",
       "    .dataframe tbody tr th {\n",
       "        vertical-align: top;\n",
       "    }\n",
       "\n",
       "    .dataframe thead th {\n",
       "        text-align: right;\n",
       "    }\n",
       "</style>\n",
       "<table border=\"1\" class=\"dataframe\">\n",
       "  <thead>\n",
       "    <tr style=\"text-align: right;\">\n",
       "      <th></th>\n",
       "      <th>passenger_count</th>\n",
       "      <th>payment_type</th>\n",
       "      <th>fare_amount</th>\n",
       "      <th>trip_distance</th>\n",
       "      <th>duration</th>\n",
       "    </tr>\n",
       "  </thead>\n",
       "  <tbody>\n",
       "    <tr>\n",
       "      <th>0</th>\n",
       "      <td>1.0</td>\n",
       "      <td>1.0</td>\n",
       "      <td>6.0</td>\n",
       "      <td>1.20</td>\n",
       "      <td>4.800000</td>\n",
       "    </tr>\n",
       "    <tr>\n",
       "      <th>1</th>\n",
       "      <td>1.0</td>\n",
       "      <td>1.0</td>\n",
       "      <td>7.0</td>\n",
       "      <td>1.20</td>\n",
       "      <td>7.416667</td>\n",
       "    </tr>\n",
       "    <tr>\n",
       "      <th>2</th>\n",
       "      <td>1.0</td>\n",
       "      <td>1.0</td>\n",
       "      <td>6.0</td>\n",
       "      <td>0.60</td>\n",
       "      <td>6.183333</td>\n",
       "    </tr>\n",
       "    <tr>\n",
       "      <th>3</th>\n",
       "      <td>1.0</td>\n",
       "      <td>1.0</td>\n",
       "      <td>5.5</td>\n",
       "      <td>0.80</td>\n",
       "      <td>4.850000</td>\n",
       "    </tr>\n",
       "    <tr>\n",
       "      <th>4</th>\n",
       "      <td>1.0</td>\n",
       "      <td>2.0</td>\n",
       "      <td>3.5</td>\n",
       "      <td>0.00</td>\n",
       "      <td>2.300000</td>\n",
       "    </tr>\n",
       "    <tr>\n",
       "      <th>...</th>\n",
       "      <td>...</td>\n",
       "      <td>...</td>\n",
       "      <td>...</td>\n",
       "      <td>...</td>\n",
       "      <td>...</td>\n",
       "    </tr>\n",
       "    <tr>\n",
       "      <th>355169</th>\n",
       "      <td>2.0</td>\n",
       "      <td>1.0</td>\n",
       "      <td>4.0</td>\n",
       "      <td>0.41</td>\n",
       "      <td>3.233333</td>\n",
       "    </tr>\n",
       "    <tr>\n",
       "      <th>355170</th>\n",
       "      <td>2.0</td>\n",
       "      <td>1.0</td>\n",
       "      <td>5.5</td>\n",
       "      <td>0.84</td>\n",
       "      <td>5.483333</td>\n",
       "    </tr>\n",
       "    <tr>\n",
       "      <th>355171</th>\n",
       "      <td>0.0</td>\n",
       "      <td>1.0</td>\n",
       "      <td>6.0</td>\n",
       "      <td>0.70</td>\n",
       "      <td>5.733333</td>\n",
       "    </tr>\n",
       "    <tr>\n",
       "      <th>355172</th>\n",
       "      <td>0.0</td>\n",
       "      <td>1.0</td>\n",
       "      <td>12.5</td>\n",
       "      <td>3.20</td>\n",
       "      <td>13.483333</td>\n",
       "    </tr>\n",
       "    <tr>\n",
       "      <th>355173</th>\n",
       "      <td>0.0</td>\n",
       "      <td>1.0</td>\n",
       "      <td>7.5</td>\n",
       "      <td>1.20</td>\n",
       "      <td>8.500000</td>\n",
       "    </tr>\n",
       "  </tbody>\n",
       "</table>\n",
       "<p>355174 rows × 5 columns</p>\n",
       "</div>"
      ],
      "text/plain": [
       "        passenger_count  payment_type  fare_amount  trip_distance   duration\n",
       "0                   1.0           1.0          6.0           1.20   4.800000\n",
       "1                   1.0           1.0          7.0           1.20   7.416667\n",
       "2                   1.0           1.0          6.0           0.60   6.183333\n",
       "3                   1.0           1.0          5.5           0.80   4.850000\n",
       "4                   1.0           2.0          3.5           0.00   2.300000\n",
       "...                 ...           ...          ...            ...        ...\n",
       "355169              2.0           1.0          4.0           0.41   3.233333\n",
       "355170              2.0           1.0          5.5           0.84   5.483333\n",
       "355171              0.0           1.0          6.0           0.70   5.733333\n",
       "355172              0.0           1.0         12.5           3.20  13.483333\n",
       "355173              0.0           1.0          7.5           1.20   8.500000\n",
       "\n",
       "[355174 rows x 5 columns]"
      ]
     },
     "execution_count": 378,
     "metadata": {},
     "output_type": "execute_result"
    }
   ],
   "source": [
    "# Filtered data\n",
    "df = df[['passenger_count', 'payment_type', 'fare_amount', 'trip_distance', 'duration']]\n",
    "df"
   ]
  },
  {
   "cell_type": "markdown",
   "id": "d161769e-1b16-459e-ba8a-cdaefac91405",
   "metadata": {},
   "source": [
    "##### Finding missing values"
   ]
  },
  {
   "cell_type": "code",
   "execution_count": 380,
   "id": "58bd55aa-ce9f-4770-b357-1cbcc72b6d01",
   "metadata": {},
   "outputs": [
    {
     "data": {
      "text/plain": [
       "passenger_count    660\n",
       "payment_type       660\n",
       "fare_amount          0\n",
       "trip_distance        0\n",
       "duration             0\n",
       "dtype: int64"
      ]
     },
     "execution_count": 380,
     "metadata": {},
     "output_type": "execute_result"
    }
   ],
   "source": [
    "df.isnull().sum()"
   ]
  },
  {
   "cell_type": "raw",
   "id": "516472f4-32ce-4452-8ae2-3d5cfbee4f3f",
   "metadata": {},
   "source": [
    "Check the records that how much % these columns having missing data contributes to the actual data, on the basis of which we decide to either fill or drop the columns. "
   ]
  },
  {
   "cell_type": "code",
   "execution_count": 382,
   "id": "c91407cc-0b53-4a17-b9e1-0c0f1f773a28",
   "metadata": {},
   "outputs": [
    {
     "data": {
      "text/plain": [
       "0.18582441282301068"
      ]
     },
     "execution_count": 382,
     "metadata": {},
     "output_type": "execute_result"
    }
   ],
   "source": [
    "(660/len(df))*100"
   ]
  },
  {
   "cell_type": "raw",
   "id": "aa186d1e-a09d-4085-a011-e5734ce04a3f",
   "metadata": {},
   "source": [
    "As the missing values are just 0.18% relative to the dataframe, so, we can just drop the missing values."
   ]
  },
  {
   "cell_type": "code",
   "execution_count": 384,
   "id": "62376558-7836-4b67-99af-f32648308d71",
   "metadata": {},
   "outputs": [
    {
     "data": {
      "text/html": [
       "<div>\n",
       "<style scoped>\n",
       "    .dataframe tbody tr th:only-of-type {\n",
       "        vertical-align: middle;\n",
       "    }\n",
       "\n",
       "    .dataframe tbody tr th {\n",
       "        vertical-align: top;\n",
       "    }\n",
       "\n",
       "    .dataframe thead th {\n",
       "        text-align: right;\n",
       "    }\n",
       "</style>\n",
       "<table border=\"1\" class=\"dataframe\">\n",
       "  <thead>\n",
       "    <tr style=\"text-align: right;\">\n",
       "      <th></th>\n",
       "      <th>passenger_count</th>\n",
       "      <th>payment_type</th>\n",
       "      <th>fare_amount</th>\n",
       "      <th>trip_distance</th>\n",
       "      <th>duration</th>\n",
       "    </tr>\n",
       "  </thead>\n",
       "  <tbody>\n",
       "    <tr>\n",
       "      <th>0</th>\n",
       "      <td>1.0</td>\n",
       "      <td>1.0</td>\n",
       "      <td>6.0</td>\n",
       "      <td>1.20</td>\n",
       "      <td>4.800000</td>\n",
       "    </tr>\n",
       "    <tr>\n",
       "      <th>1</th>\n",
       "      <td>1.0</td>\n",
       "      <td>1.0</td>\n",
       "      <td>7.0</td>\n",
       "      <td>1.20</td>\n",
       "      <td>7.416667</td>\n",
       "    </tr>\n",
       "    <tr>\n",
       "      <th>2</th>\n",
       "      <td>1.0</td>\n",
       "      <td>1.0</td>\n",
       "      <td>6.0</td>\n",
       "      <td>0.60</td>\n",
       "      <td>6.183333</td>\n",
       "    </tr>\n",
       "    <tr>\n",
       "      <th>3</th>\n",
       "      <td>1.0</td>\n",
       "      <td>1.0</td>\n",
       "      <td>5.5</td>\n",
       "      <td>0.80</td>\n",
       "      <td>4.850000</td>\n",
       "    </tr>\n",
       "    <tr>\n",
       "      <th>4</th>\n",
       "      <td>1.0</td>\n",
       "      <td>2.0</td>\n",
       "      <td>3.5</td>\n",
       "      <td>0.00</td>\n",
       "      <td>2.300000</td>\n",
       "    </tr>\n",
       "    <tr>\n",
       "      <th>...</th>\n",
       "      <td>...</td>\n",
       "      <td>...</td>\n",
       "      <td>...</td>\n",
       "      <td>...</td>\n",
       "      <td>...</td>\n",
       "    </tr>\n",
       "    <tr>\n",
       "      <th>355169</th>\n",
       "      <td>2.0</td>\n",
       "      <td>1.0</td>\n",
       "      <td>4.0</td>\n",
       "      <td>0.41</td>\n",
       "      <td>3.233333</td>\n",
       "    </tr>\n",
       "    <tr>\n",
       "      <th>355170</th>\n",
       "      <td>2.0</td>\n",
       "      <td>1.0</td>\n",
       "      <td>5.5</td>\n",
       "      <td>0.84</td>\n",
       "      <td>5.483333</td>\n",
       "    </tr>\n",
       "    <tr>\n",
       "      <th>355171</th>\n",
       "      <td>0.0</td>\n",
       "      <td>1.0</td>\n",
       "      <td>6.0</td>\n",
       "      <td>0.70</td>\n",
       "      <td>5.733333</td>\n",
       "    </tr>\n",
       "    <tr>\n",
       "      <th>355172</th>\n",
       "      <td>0.0</td>\n",
       "      <td>1.0</td>\n",
       "      <td>12.5</td>\n",
       "      <td>3.20</td>\n",
       "      <td>13.483333</td>\n",
       "    </tr>\n",
       "    <tr>\n",
       "      <th>355173</th>\n",
       "      <td>0.0</td>\n",
       "      <td>1.0</td>\n",
       "      <td>7.5</td>\n",
       "      <td>1.20</td>\n",
       "      <td>8.500000</td>\n",
       "    </tr>\n",
       "  </tbody>\n",
       "</table>\n",
       "<p>354514 rows × 5 columns</p>\n",
       "</div>"
      ],
      "text/plain": [
       "        passenger_count  payment_type  fare_amount  trip_distance   duration\n",
       "0                   1.0           1.0          6.0           1.20   4.800000\n",
       "1                   1.0           1.0          7.0           1.20   7.416667\n",
       "2                   1.0           1.0          6.0           0.60   6.183333\n",
       "3                   1.0           1.0          5.5           0.80   4.850000\n",
       "4                   1.0           2.0          3.5           0.00   2.300000\n",
       "...                 ...           ...          ...            ...        ...\n",
       "355169              2.0           1.0          4.0           0.41   3.233333\n",
       "355170              2.0           1.0          5.5           0.84   5.483333\n",
       "355171              0.0           1.0          6.0           0.70   5.733333\n",
       "355172              0.0           1.0         12.5           3.20  13.483333\n",
       "355173              0.0           1.0          7.5           1.20   8.500000\n",
       "\n",
       "[354514 rows x 5 columns]"
      ]
     },
     "execution_count": 384,
     "metadata": {},
     "output_type": "execute_result"
    }
   ],
   "source": [
    "df.dropna(inplace= True)\n",
    "df"
   ]
  },
  {
   "cell_type": "raw",
   "id": "fc3cb4f7-bb80-43ff-9722-f1c1b534611d",
   "metadata": {},
   "source": [
    "passenger_count and payment_type can't be counted in float values, thus, convert them to int. "
   ]
  },
  {
   "cell_type": "code",
   "execution_count": 386,
   "id": "e73f4f2b-062b-4326-940b-062f970349b9",
   "metadata": {},
   "outputs": [],
   "source": [
    "df['passenger_count'] = df['passenger_count'].astype('int64')\n",
    "df['payment_type'] = df['payment_type'].astype('int64')"
   ]
  },
  {
   "cell_type": "markdown",
   "id": "7baea989-af02-410b-82a5-76e83b0834f2",
   "metadata": {},
   "source": [
    "##### Checking duplicate values"
   ]
  },
  {
   "cell_type": "code",
   "execution_count": 388,
   "id": "6ea2a75e-a355-4e1d-b241-6b632471b596",
   "metadata": {},
   "outputs": [
    {
     "data": {
      "text/html": [
       "<div>\n",
       "<style scoped>\n",
       "    .dataframe tbody tr th:only-of-type {\n",
       "        vertical-align: middle;\n",
       "    }\n",
       "\n",
       "    .dataframe tbody tr th {\n",
       "        vertical-align: top;\n",
       "    }\n",
       "\n",
       "    .dataframe thead th {\n",
       "        text-align: right;\n",
       "    }\n",
       "</style>\n",
       "<table border=\"1\" class=\"dataframe\">\n",
       "  <thead>\n",
       "    <tr style=\"text-align: right;\">\n",
       "      <th></th>\n",
       "      <th>passenger_count</th>\n",
       "      <th>payment_type</th>\n",
       "      <th>fare_amount</th>\n",
       "      <th>trip_distance</th>\n",
       "      <th>duration</th>\n",
       "    </tr>\n",
       "  </thead>\n",
       "  <tbody>\n",
       "    <tr>\n",
       "      <th>2064</th>\n",
       "      <td>1</td>\n",
       "      <td>2</td>\n",
       "      <td>7.0</td>\n",
       "      <td>0.00</td>\n",
       "      <td>0.000000</td>\n",
       "    </tr>\n",
       "    <tr>\n",
       "      <th>2451</th>\n",
       "      <td>1</td>\n",
       "      <td>1</td>\n",
       "      <td>52.0</td>\n",
       "      <td>0.00</td>\n",
       "      <td>0.200000</td>\n",
       "    </tr>\n",
       "    <tr>\n",
       "      <th>2456</th>\n",
       "      <td>2</td>\n",
       "      <td>1</td>\n",
       "      <td>9.5</td>\n",
       "      <td>1.70</td>\n",
       "      <td>13.066667</td>\n",
       "    </tr>\n",
       "    <tr>\n",
       "      <th>2476</th>\n",
       "      <td>1</td>\n",
       "      <td>1</td>\n",
       "      <td>4.0</td>\n",
       "      <td>0.40</td>\n",
       "      <td>3.083333</td>\n",
       "    </tr>\n",
       "    <tr>\n",
       "      <th>3358</th>\n",
       "      <td>1</td>\n",
       "      <td>1</td>\n",
       "      <td>6.0</td>\n",
       "      <td>1.20</td>\n",
       "      <td>5.350000</td>\n",
       "    </tr>\n",
       "    <tr>\n",
       "      <th>...</th>\n",
       "      <td>...</td>\n",
       "      <td>...</td>\n",
       "      <td>...</td>\n",
       "      <td>...</td>\n",
       "      <td>...</td>\n",
       "    </tr>\n",
       "    <tr>\n",
       "      <th>355154</th>\n",
       "      <td>1</td>\n",
       "      <td>2</td>\n",
       "      <td>4.0</td>\n",
       "      <td>0.41</td>\n",
       "      <td>3.183333</td>\n",
       "    </tr>\n",
       "    <tr>\n",
       "      <th>355159</th>\n",
       "      <td>1</td>\n",
       "      <td>1</td>\n",
       "      <td>4.0</td>\n",
       "      <td>0.40</td>\n",
       "      <td>2.850000</td>\n",
       "    </tr>\n",
       "    <tr>\n",
       "      <th>355160</th>\n",
       "      <td>1</td>\n",
       "      <td>1</td>\n",
       "      <td>9.5</td>\n",
       "      <td>1.95</td>\n",
       "      <td>10.983333</td>\n",
       "    </tr>\n",
       "    <tr>\n",
       "      <th>355162</th>\n",
       "      <td>1</td>\n",
       "      <td>1</td>\n",
       "      <td>9.0</td>\n",
       "      <td>2.00</td>\n",
       "      <td>9.900000</td>\n",
       "    </tr>\n",
       "    <tr>\n",
       "      <th>355165</th>\n",
       "      <td>1</td>\n",
       "      <td>1</td>\n",
       "      <td>10.0</td>\n",
       "      <td>2.10</td>\n",
       "      <td>10.833333</td>\n",
       "    </tr>\n",
       "  </tbody>\n",
       "</table>\n",
       "<p>51694 rows × 5 columns</p>\n",
       "</div>"
      ],
      "text/plain": [
       "        passenger_count  payment_type  fare_amount  trip_distance   duration\n",
       "2064                  1             2          7.0           0.00   0.000000\n",
       "2451                  1             1         52.0           0.00   0.200000\n",
       "2456                  2             1          9.5           1.70  13.066667\n",
       "2476                  1             1          4.0           0.40   3.083333\n",
       "3358                  1             1          6.0           1.20   5.350000\n",
       "...                 ...           ...          ...            ...        ...\n",
       "355154                1             2          4.0           0.41   3.183333\n",
       "355159                1             1          4.0           0.40   2.850000\n",
       "355160                1             1          9.5           1.95  10.983333\n",
       "355162                1             1          9.0           2.00   9.900000\n",
       "355165                1             1         10.0           2.10  10.833333\n",
       "\n",
       "[51694 rows x 5 columns]"
      ]
     },
     "execution_count": 388,
     "metadata": {},
     "output_type": "execute_result"
    }
   ],
   "source": [
    "df[df.duplicated()]"
   ]
  },
  {
   "cell_type": "markdown",
   "id": "146e01c0-15c2-46eb-b3eb-cb15ec36943d",
   "metadata": {},
   "source": [
    "##### Dropping duplicate values"
   ]
  },
  {
   "cell_type": "code",
   "execution_count": 390,
   "id": "9aab8477-1094-48f4-b39a-039445b3728c",
   "metadata": {},
   "outputs": [],
   "source": [
    "df.drop_duplicates(inplace= True)"
   ]
  },
  {
   "cell_type": "code",
   "execution_count": 392,
   "id": "9ee3b6ab-bd9e-45f7-a10c-e50601d58522",
   "metadata": {},
   "outputs": [
    {
     "data": {
      "text/plain": [
       "(302820, 5)"
      ]
     },
     "execution_count": 392,
     "metadata": {},
     "output_type": "execute_result"
    }
   ],
   "source": [
    "df.shape"
   ]
  },
  {
   "cell_type": "markdown",
   "id": "2719aa2a-37dd-4b1f-846e-e389f6450487",
   "metadata": {},
   "source": [
    "##### Checking the contribution of passenger_count and payment_type in the dataset"
   ]
  },
  {
   "cell_type": "code",
   "execution_count": 317,
   "id": "6110d555-a9e7-4d93-a68e-94af097b6998",
   "metadata": {},
   "outputs": [
    {
     "data": {
      "text/plain": [
       "passenger_count\n",
       "1    0.627211\n",
       "2    0.189882\n",
       "3    0.059042\n",
       "5    0.043376\n",
       "4    0.036025\n",
       "6    0.026521\n",
       "0    0.017918\n",
       "8    0.000017\n",
       "9    0.000007\n",
       "7    0.000003\n",
       "Name: proportion, dtype: float64"
      ]
     },
     "execution_count": 317,
     "metadata": {},
     "output_type": "execute_result"
    }
   ],
   "source": [
    "df['passenger_count'].value_counts(normalize = True) # normalize will give the %, the contribution"
   ]
  },
  {
   "cell_type": "raw",
   "id": "df19cbf9-81af-452c-b32e-de31a69b287a",
   "metadata": {},
   "source": [
    "There can't be 0 passengers and 7, 8, 9 contributing very less in the dataset, so we can drop them."
   ]
  },
  {
   "cell_type": "code",
   "execution_count": 319,
   "id": "7e56e062-3131-408f-96e6-10f7d9aafae1",
   "metadata": {},
   "outputs": [
    {
     "data": {
      "text/plain": [
       "payment_type\n",
       "1    0.630708\n",
       "2    0.358355\n",
       "3    0.006753\n",
       "4    0.004184\n",
       "Name: proportion, dtype: float64"
      ]
     },
     "execution_count": 319,
     "metadata": {},
     "output_type": "execute_result"
    }
   ],
   "source": [
    "df['payment_type'].value_counts(normalize = True)"
   ]
  },
  {
   "cell_type": "code",
   "execution_count": 394,
   "id": "073562c3-c1b0-4753-b21a-680c2eb362d1",
   "metadata": {},
   "outputs": [],
   "source": [
    "df = df[df['payment_type'] < 3]"
   ]
  },
  {
   "cell_type": "raw",
   "id": "0359700d-be61-4541-9c65-fe005b44896e",
   "metadata": {},
   "source": [
    "For the analysis, We have to only consider the payment type 1 and 2, so dropping rest of them. "
   ]
  },
  {
   "cell_type": "code",
   "execution_count": 396,
   "id": "6b9e9a26-a22e-4611-9cea-430f1377e246",
   "metadata": {},
   "outputs": [],
   "source": [
    "df = df[(df['passenger_count'] > 0) & (df['passenger_count'] < 6) ]"
   ]
  },
  {
   "cell_type": "code",
   "execution_count": 325,
   "id": "96c234da-98ed-44a1-9c34-b2c6089168aa",
   "metadata": {},
   "outputs": [
    {
     "data": {
      "text/plain": [
       "(286220, 5)"
      ]
     },
     "execution_count": 325,
     "metadata": {},
     "output_type": "execute_result"
    }
   ],
   "source": [
    "df.shape"
   ]
  },
  {
   "cell_type": "markdown",
   "id": "1bdf17f2-0d42-48e7-a683-92789c0a7bcb",
   "metadata": {},
   "source": [
    "##### Filtering categorical and numerical data"
   ]
  },
  {
   "cell_type": "code",
   "execution_count": 398,
   "id": "c64edde8-5e6c-4e22-af66-21b59bf3287e",
   "metadata": {},
   "outputs": [
    {
     "data": {
      "text/html": [
       "<div>\n",
       "<style scoped>\n",
       "    .dataframe tbody tr th:only-of-type {\n",
       "        vertical-align: middle;\n",
       "    }\n",
       "\n",
       "    .dataframe tbody tr th {\n",
       "        vertical-align: top;\n",
       "    }\n",
       "\n",
       "    .dataframe thead th {\n",
       "        text-align: right;\n",
       "    }\n",
       "</style>\n",
       "<table border=\"1\" class=\"dataframe\">\n",
       "  <thead>\n",
       "    <tr style=\"text-align: right;\">\n",
       "      <th></th>\n",
       "      <th>passenger_count</th>\n",
       "      <th>payment_type</th>\n",
       "      <th>fare_amount</th>\n",
       "      <th>trip_distance</th>\n",
       "      <th>duration</th>\n",
       "    </tr>\n",
       "  </thead>\n",
       "  <tbody>\n",
       "    <tr>\n",
       "      <th>0</th>\n",
       "      <td>1</td>\n",
       "      <td>Card</td>\n",
       "      <td>6.0</td>\n",
       "      <td>1.20</td>\n",
       "      <td>4.800000</td>\n",
       "    </tr>\n",
       "    <tr>\n",
       "      <th>1</th>\n",
       "      <td>1</td>\n",
       "      <td>Card</td>\n",
       "      <td>7.0</td>\n",
       "      <td>1.20</td>\n",
       "      <td>7.416667</td>\n",
       "    </tr>\n",
       "    <tr>\n",
       "      <th>2</th>\n",
       "      <td>1</td>\n",
       "      <td>Card</td>\n",
       "      <td>6.0</td>\n",
       "      <td>0.60</td>\n",
       "      <td>6.183333</td>\n",
       "    </tr>\n",
       "    <tr>\n",
       "      <th>3</th>\n",
       "      <td>1</td>\n",
       "      <td>Card</td>\n",
       "      <td>5.5</td>\n",
       "      <td>0.80</td>\n",
       "      <td>4.850000</td>\n",
       "    </tr>\n",
       "    <tr>\n",
       "      <th>4</th>\n",
       "      <td>1</td>\n",
       "      <td>Cash</td>\n",
       "      <td>3.5</td>\n",
       "      <td>0.00</td>\n",
       "      <td>2.300000</td>\n",
       "    </tr>\n",
       "    <tr>\n",
       "      <th>...</th>\n",
       "      <td>...</td>\n",
       "      <td>...</td>\n",
       "      <td>...</td>\n",
       "      <td>...</td>\n",
       "      <td>...</td>\n",
       "    </tr>\n",
       "    <tr>\n",
       "      <th>355166</th>\n",
       "      <td>1</td>\n",
       "      <td>Card</td>\n",
       "      <td>12.0</td>\n",
       "      <td>2.10</td>\n",
       "      <td>16.850000</td>\n",
       "    </tr>\n",
       "    <tr>\n",
       "      <th>355167</th>\n",
       "      <td>1</td>\n",
       "      <td>Card</td>\n",
       "      <td>8.0</td>\n",
       "      <td>1.73</td>\n",
       "      <td>8.050000</td>\n",
       "    </tr>\n",
       "    <tr>\n",
       "      <th>355168</th>\n",
       "      <td>3</td>\n",
       "      <td>Card</td>\n",
       "      <td>8.5</td>\n",
       "      <td>1.76</td>\n",
       "      <td>9.000000</td>\n",
       "    </tr>\n",
       "    <tr>\n",
       "      <th>355169</th>\n",
       "      <td>2</td>\n",
       "      <td>Card</td>\n",
       "      <td>4.0</td>\n",
       "      <td>0.41</td>\n",
       "      <td>3.233333</td>\n",
       "    </tr>\n",
       "    <tr>\n",
       "      <th>355170</th>\n",
       "      <td>2</td>\n",
       "      <td>Card</td>\n",
       "      <td>5.5</td>\n",
       "      <td>0.84</td>\n",
       "      <td>5.483333</td>\n",
       "    </tr>\n",
       "  </tbody>\n",
       "</table>\n",
       "<p>286220 rows × 5 columns</p>\n",
       "</div>"
      ],
      "text/plain": [
       "        passenger_count payment_type  fare_amount  trip_distance   duration\n",
       "0                     1         Card          6.0           1.20   4.800000\n",
       "1                     1         Card          7.0           1.20   7.416667\n",
       "2                     1         Card          6.0           0.60   6.183333\n",
       "3                     1         Card          5.5           0.80   4.850000\n",
       "4                     1         Cash          3.5           0.00   2.300000\n",
       "...                 ...          ...          ...            ...        ...\n",
       "355166                1         Card         12.0           2.10  16.850000\n",
       "355167                1         Card          8.0           1.73   8.050000\n",
       "355168                3         Card          8.5           1.76   9.000000\n",
       "355169                2         Card          4.0           0.41   3.233333\n",
       "355170                2         Card          5.5           0.84   5.483333\n",
       "\n",
       "[286220 rows x 5 columns]"
      ]
     },
     "execution_count": 398,
     "metadata": {},
     "output_type": "execute_result"
    }
   ],
   "source": [
    "df['payment_type'].replace([1,2], ['Card', 'Cash'], inplace= True)\n",
    "df"
   ]
  },
  {
   "cell_type": "code",
   "execution_count": 329,
   "id": "e3341404-14b0-499b-b324-aab82de9df93",
   "metadata": {},
   "outputs": [
    {
     "data": {
      "text/html": [
       "<div>\n",
       "<style scoped>\n",
       "    .dataframe tbody tr th:only-of-type {\n",
       "        vertical-align: middle;\n",
       "    }\n",
       "\n",
       "    .dataframe tbody tr th {\n",
       "        vertical-align: top;\n",
       "    }\n",
       "\n",
       "    .dataframe thead th {\n",
       "        text-align: right;\n",
       "    }\n",
       "</style>\n",
       "<table border=\"1\" class=\"dataframe\">\n",
       "  <thead>\n",
       "    <tr style=\"text-align: right;\">\n",
       "      <th></th>\n",
       "      <th>passenger_count</th>\n",
       "      <th>fare_amount</th>\n",
       "      <th>trip_distance</th>\n",
       "      <th>duration</th>\n",
       "    </tr>\n",
       "  </thead>\n",
       "  <tbody>\n",
       "    <tr>\n",
       "      <th>count</th>\n",
       "      <td>286220.000000</td>\n",
       "      <td>286220.000000</td>\n",
       "      <td>286220.000000</td>\n",
       "      <td>286220.000000</td>\n",
       "    </tr>\n",
       "    <tr>\n",
       "      <th>mean</th>\n",
       "      <td>1.618556</td>\n",
       "      <td>14.809752</td>\n",
       "      <td>3.752733</td>\n",
       "      <td>18.094647</td>\n",
       "    </tr>\n",
       "    <tr>\n",
       "      <th>std</th>\n",
       "      <td>1.064887</td>\n",
       "      <td>13.917085</td>\n",
       "      <td>4.557675</td>\n",
       "      <td>78.002258</td>\n",
       "    </tr>\n",
       "    <tr>\n",
       "      <th>min</th>\n",
       "      <td>1.000000</td>\n",
       "      <td>-110.000000</td>\n",
       "      <td>-0.880000</td>\n",
       "      <td>0.000000</td>\n",
       "    </tr>\n",
       "    <tr>\n",
       "      <th>25%</th>\n",
       "      <td>1.000000</td>\n",
       "      <td>7.000000</td>\n",
       "      <td>1.160000</td>\n",
       "      <td>6.833333</td>\n",
       "    </tr>\n",
       "    <tr>\n",
       "      <th>50%</th>\n",
       "      <td>1.000000</td>\n",
       "      <td>10.000000</td>\n",
       "      <td>2.050000</td>\n",
       "      <td>11.316667</td>\n",
       "    </tr>\n",
       "    <tr>\n",
       "      <th>75%</th>\n",
       "      <td>2.000000</td>\n",
       "      <td>16.500000</td>\n",
       "      <td>4.100000</td>\n",
       "      <td>17.933333</td>\n",
       "    </tr>\n",
       "    <tr>\n",
       "      <th>max</th>\n",
       "      <td>5.000000</td>\n",
       "      <td>491.000000</td>\n",
       "      <td>100.150000</td>\n",
       "      <td>1439.600000</td>\n",
       "    </tr>\n",
       "  </tbody>\n",
       "</table>\n",
       "</div>"
      ],
      "text/plain": [
       "       passenger_count    fare_amount  trip_distance       duration\n",
       "count    286220.000000  286220.000000  286220.000000  286220.000000\n",
       "mean          1.618556      14.809752       3.752733      18.094647\n",
       "std           1.064887      13.917085       4.557675      78.002258\n",
       "min           1.000000    -110.000000      -0.880000       0.000000\n",
       "25%           1.000000       7.000000       1.160000       6.833333\n",
       "50%           1.000000      10.000000       2.050000      11.316667\n",
       "75%           2.000000      16.500000       4.100000      17.933333\n",
       "max           5.000000     491.000000     100.150000    1439.600000"
      ]
     },
     "execution_count": 329,
     "metadata": {},
     "output_type": "execute_result"
    }
   ],
   "source": [
    "df.describe()"
   ]
  },
  {
   "cell_type": "raw",
   "id": "36562804-14b7-440c-9996-00fff93db538",
   "metadata": {},
   "source": [
    "With this, we can find that min category have values in -ve that is not possible and 75% and max values represnts the outliers in the data, so many in this case. "
   ]
  },
  {
   "cell_type": "code",
   "execution_count": 402,
   "id": "f00d8b6d-e989-4f4c-bed4-34801103955d",
   "metadata": {},
   "outputs": [
    {
     "data": {
      "text/html": [
       "<div>\n",
       "<style scoped>\n",
       "    .dataframe tbody tr th:only-of-type {\n",
       "        vertical-align: middle;\n",
       "    }\n",
       "\n",
       "    .dataframe tbody tr th {\n",
       "        vertical-align: top;\n",
       "    }\n",
       "\n",
       "    .dataframe thead th {\n",
       "        text-align: right;\n",
       "    }\n",
       "</style>\n",
       "<table border=\"1\" class=\"dataframe\">\n",
       "  <thead>\n",
       "    <tr style=\"text-align: right;\">\n",
       "      <th></th>\n",
       "      <th>passenger_count</th>\n",
       "      <th>fare_amount</th>\n",
       "      <th>trip_distance</th>\n",
       "      <th>duration</th>\n",
       "    </tr>\n",
       "  </thead>\n",
       "  <tbody>\n",
       "    <tr>\n",
       "      <th>count</th>\n",
       "      <td>283491.000000</td>\n",
       "      <td>283491.000000</td>\n",
       "      <td>283491.000000</td>\n",
       "      <td>283491.000000</td>\n",
       "    </tr>\n",
       "    <tr>\n",
       "      <th>mean</th>\n",
       "      <td>1.619674</td>\n",
       "      <td>14.625015</td>\n",
       "      <td>3.785481</td>\n",
       "      <td>18.101593</td>\n",
       "    </tr>\n",
       "    <tr>\n",
       "      <th>std</th>\n",
       "      <td>1.065975</td>\n",
       "      <td>13.323338</td>\n",
       "      <td>4.562211</td>\n",
       "      <td>77.810240</td>\n",
       "    </tr>\n",
       "    <tr>\n",
       "      <th>min</th>\n",
       "      <td>1.000000</td>\n",
       "      <td>0.010000</td>\n",
       "      <td>0.010000</td>\n",
       "      <td>0.016667</td>\n",
       "    </tr>\n",
       "    <tr>\n",
       "      <th>25%</th>\n",
       "      <td>1.000000</td>\n",
       "      <td>7.000000</td>\n",
       "      <td>1.190000</td>\n",
       "      <td>6.916667</td>\n",
       "    </tr>\n",
       "    <tr>\n",
       "      <th>50%</th>\n",
       "      <td>1.000000</td>\n",
       "      <td>10.000000</td>\n",
       "      <td>2.080000</td>\n",
       "      <td>11.366667</td>\n",
       "    </tr>\n",
       "    <tr>\n",
       "      <th>75%</th>\n",
       "      <td>2.000000</td>\n",
       "      <td>16.500000</td>\n",
       "      <td>4.140000</td>\n",
       "      <td>17.933333</td>\n",
       "    </tr>\n",
       "    <tr>\n",
       "      <th>max</th>\n",
       "      <td>5.000000</td>\n",
       "      <td>400.000000</td>\n",
       "      <td>100.150000</td>\n",
       "      <td>1439.600000</td>\n",
       "    </tr>\n",
       "  </tbody>\n",
       "</table>\n",
       "</div>"
      ],
      "text/plain": [
       "       passenger_count    fare_amount  trip_distance       duration\n",
       "count    283491.000000  283491.000000  283491.000000  283491.000000\n",
       "mean          1.619674      14.625015       3.785481      18.101593\n",
       "std           1.065975      13.323338       4.562211      77.810240\n",
       "min           1.000000       0.010000       0.010000       0.016667\n",
       "25%           1.000000       7.000000       1.190000       6.916667\n",
       "50%           1.000000      10.000000       2.080000      11.366667\n",
       "75%           2.000000      16.500000       4.140000      17.933333\n",
       "max           5.000000     400.000000     100.150000    1439.600000"
      ]
     },
     "execution_count": 402,
     "metadata": {},
     "output_type": "execute_result"
    }
   ],
   "source": [
    "df = df[df['fare_amount'] > 0]\n",
    "df = df[df['trip_distance'] > 0]\n",
    "df = df[df['duration'] > 0]\n",
    "\n",
    "df.describe()"
   ]
  },
  {
   "cell_type": "markdown",
   "id": "0f166db2-0dec-4320-b41a-1ca8dbad0634",
   "metadata": {},
   "source": [
    "##### Checking the outliers to find if we need to remove them."
   ]
  },
  {
   "cell_type": "code",
   "execution_count": 333,
   "id": "d5b8d147-75df-4ef3-843c-1696c32b8b3a",
   "metadata": {},
   "outputs": [
    {
     "data": {
      "text/plain": [
       "(array([2.64567e+05, 1.83670e+04, 3.94000e+02, 9.80000e+01, 3.80000e+01,\n",
       "        7.00000e+00, 8.00000e+00, 5.00000e+00, 4.00000e+00, 3.00000e+00]),\n",
       " array([1.00000e-02, 4.00090e+01, 8.00080e+01, 1.20007e+02, 1.60006e+02,\n",
       "        2.00005e+02, 2.40004e+02, 2.80003e+02, 3.20002e+02, 3.60001e+02,\n",
       "        4.00000e+02]),\n",
       " <BarContainer object of 10 artists>)"
      ]
     },
     "execution_count": 333,
     "metadata": {},
     "output_type": "execute_result"
    },
    {
     "data": {
      "image/png": "[encoded data removed]",
      "text/plain": [
       "<Figure size 640x480 with 1 Axes>"
      ]
     },
     "metadata": {},
     "output_type": "display_data"
    }
   ],
   "source": [
    "plt.hist(df['fare_amount'])"
   ]
  },
  {
   "cell_type": "raw",
   "id": "f5a150a6-2f2a-4e0e-b8f5-329490d35991",
   "metadata": {},
   "source": [
    "The value runs upto 400 that is even not visible, that means there are outliers present. "
   ]
  },
  {
   "cell_type": "code",
   "execution_count": 335,
   "id": "b72f08af-83ee-4699-a6d9-013b1643c885",
   "metadata": {},
   "outputs": [
    {
     "data": {
      "text/plain": [
       "{'whiskers': [<matplotlib.lines.Line2D at 0x20386c77ad0>,\n",
       "  <matplotlib.lines.Line2D at 0x20386c77d40>],\n",
       " 'caps': [<matplotlib.lines.Line2D at 0x20386c77fe0>,\n",
       "  <matplotlib.lines.Line2D at 0x20386c76810>],\n",
       " 'boxes': [<matplotlib.lines.Line2D at 0x20386c77860>],\n",
       " 'medians': [<matplotlib.lines.Line2D at 0x20388249d30>],\n",
       " 'fliers': [<matplotlib.lines.Line2D at 0x20386cb4350>],\n",
       " 'means': []}"
      ]
     },
     "execution_count": 335,
     "metadata": {},
     "output_type": "execute_result"
    },
    {
     "data": {
      "image/png": "[encoded data removed]",
      "text/plain": [
       "<Figure size 640x480 with 1 Axes>"
      ]
     },
     "metadata": {},
     "output_type": "display_data"
    }
   ],
   "source": [
    "plt.boxplot(df['fare_amount'])"
   ]
  },
  {
   "cell_type": "raw",
   "id": "1ae595d0-1dd3-4ddc-95d3-414cf0a8ba3f",
   "metadata": {},
   "source": [
    "With this boxplot, we can see that most of the data is present until 200. It could be possible. if the passenger is moving from one city to another, so we can remove the rest of them."
   ]
  },
  {
   "cell_type": "raw",
   "id": "43315323-ae65-4b67-9376-57bb98af36f9",
   "metadata": {},
   "source": [
    "Outliers can be removed with two methods: z-score or inter-quantile range."
   ]
  },
  {
   "cell_type": "code",
   "execution_count": 404,
   "id": "f0c4605c-c065-4459-a55a-3aad4b9079de",
   "metadata": {},
   "outputs": [],
   "source": [
    "# inter-quantile range\n",
    "\n",
    "for col in ['fare_amount', 'trip_distance', 'duration']:\n",
    "    q1 = df[col].quantile(0.25)\n",
    "    q3 = df[col].quantile(0.75)\n",
    "    IQR = q3-q1\n",
    "\n",
    "    lower_bound = q1-1.5 * IQR\n",
    "    upper_bound = q3+1.5 * IQR\n",
    "\n",
    "# Filtering the data on basis os lower_bound and upper_bound, the data should be between them.\n",
    "    df = df[(df[col] >= lower_bound) & (df[col] <= upper_bound)]\n"
   ]
  },
  {
   "cell_type": "code",
   "execution_count": 339,
   "id": "2359d3c9-a078-4fa4-a466-cb17d04dee00",
   "metadata": {},
   "outputs": [
    {
     "data": {
      "text/html": [
       "<div>\n",
       "<style scoped>\n",
       "    .dataframe tbody tr th:only-of-type {\n",
       "        vertical-align: middle;\n",
       "    }\n",
       "\n",
       "    .dataframe tbody tr th {\n",
       "        vertical-align: top;\n",
       "    }\n",
       "\n",
       "    .dataframe thead th {\n",
       "        text-align: right;\n",
       "    }\n",
       "</style>\n",
       "<table border=\"1\" class=\"dataframe\">\n",
       "  <thead>\n",
       "    <tr style=\"text-align: right;\">\n",
       "      <th></th>\n",
       "      <th>passenger_count</th>\n",
       "      <th>payment_type</th>\n",
       "      <th>fare_amount</th>\n",
       "      <th>trip_distance</th>\n",
       "      <th>duration</th>\n",
       "    </tr>\n",
       "  </thead>\n",
       "  <tbody>\n",
       "    <tr>\n",
       "      <th>0</th>\n",
       "      <td>1</td>\n",
       "      <td>Card</td>\n",
       "      <td>6.0</td>\n",
       "      <td>1.20</td>\n",
       "      <td>4.800000</td>\n",
       "    </tr>\n",
       "    <tr>\n",
       "      <th>1</th>\n",
       "      <td>1</td>\n",
       "      <td>Card</td>\n",
       "      <td>7.0</td>\n",
       "      <td>1.20</td>\n",
       "      <td>7.416667</td>\n",
       "    </tr>\n",
       "    <tr>\n",
       "      <th>2</th>\n",
       "      <td>1</td>\n",
       "      <td>Card</td>\n",
       "      <td>6.0</td>\n",
       "      <td>0.60</td>\n",
       "      <td>6.183333</td>\n",
       "    </tr>\n",
       "    <tr>\n",
       "      <th>3</th>\n",
       "      <td>1</td>\n",
       "      <td>Card</td>\n",
       "      <td>5.5</td>\n",
       "      <td>0.80</td>\n",
       "      <td>4.850000</td>\n",
       "    </tr>\n",
       "    <tr>\n",
       "      <th>5</th>\n",
       "      <td>1</td>\n",
       "      <td>Cash</td>\n",
       "      <td>2.5</td>\n",
       "      <td>0.03</td>\n",
       "      <td>0.883333</td>\n",
       "    </tr>\n",
       "    <tr>\n",
       "      <th>...</th>\n",
       "      <td>...</td>\n",
       "      <td>...</td>\n",
       "      <td>...</td>\n",
       "      <td>...</td>\n",
       "      <td>...</td>\n",
       "    </tr>\n",
       "    <tr>\n",
       "      <th>355166</th>\n",
       "      <td>1</td>\n",
       "      <td>Card</td>\n",
       "      <td>12.0</td>\n",
       "      <td>2.10</td>\n",
       "      <td>16.850000</td>\n",
       "    </tr>\n",
       "    <tr>\n",
       "      <th>355167</th>\n",
       "      <td>1</td>\n",
       "      <td>Card</td>\n",
       "      <td>8.0</td>\n",
       "      <td>1.73</td>\n",
       "      <td>8.050000</td>\n",
       "    </tr>\n",
       "    <tr>\n",
       "      <th>355168</th>\n",
       "      <td>3</td>\n",
       "      <td>Card</td>\n",
       "      <td>8.5</td>\n",
       "      <td>1.76</td>\n",
       "      <td>9.000000</td>\n",
       "    </tr>\n",
       "    <tr>\n",
       "      <th>355169</th>\n",
       "      <td>2</td>\n",
       "      <td>Card</td>\n",
       "      <td>4.0</td>\n",
       "      <td>0.41</td>\n",
       "      <td>3.233333</td>\n",
       "    </tr>\n",
       "    <tr>\n",
       "      <th>355170</th>\n",
       "      <td>2</td>\n",
       "      <td>Card</td>\n",
       "      <td>5.5</td>\n",
       "      <td>0.84</td>\n",
       "      <td>5.483333</td>\n",
       "    </tr>\n",
       "  </tbody>\n",
       "</table>\n",
       "<p>233683 rows × 5 columns</p>\n",
       "</div>"
      ],
      "text/plain": [
       "        passenger_count payment_type  fare_amount  trip_distance   duration\n",
       "0                     1         Card          6.0           1.20   4.800000\n",
       "1                     1         Card          7.0           1.20   7.416667\n",
       "2                     1         Card          6.0           0.60   6.183333\n",
       "3                     1         Card          5.5           0.80   4.850000\n",
       "5                     1         Cash          2.5           0.03   0.883333\n",
       "...                 ...          ...          ...            ...        ...\n",
       "355166                1         Card         12.0           2.10  16.850000\n",
       "355167                1         Card          8.0           1.73   8.050000\n",
       "355168                3         Card          8.5           1.76   9.000000\n",
       "355169                2         Card          4.0           0.41   3.233333\n",
       "355170                2         Card          5.5           0.84   5.483333\n",
       "\n",
       "[233683 rows x 5 columns]"
      ]
     },
     "execution_count": 339,
     "metadata": {},
     "output_type": "execute_result"
    }
   ],
   "source": [
    "df"
   ]
  },
  {
   "cell_type": "markdown",
   "id": "8d13dc4b-077f-4945-97f9-9f9d46857f35",
   "metadata": {},
   "source": [
    "#### 1. Find if the customer prefer to pay with card or cash on the basis of trip distance and fare_amount. "
   ]
  },
  {
   "cell_type": "code",
   "execution_count": 342,
   "id": "7b862e13-b1aa-49e8-88c4-252c1e15ff55",
   "metadata": {},
   "outputs": [
    {
     "data": {
      "image/png": "[encoded data removed]",
      "text/plain": [
       "<Figure size 1200x500 with 2 Axes>"
      ]
     },
     "metadata": {},
     "output_type": "display_data"
    }
   ],
   "source": [
    "plt.figure(figsize= (12,5))\n",
    "plt.subplot(1,2,1)\n",
    "plt.title('Distribution of Fare amount')\n",
    "plt.hist(df[df['payment_type'] == 'Card']['fare_amount'], histtype= 'barstacked', bins= 20, edgecolor = 'k', color = '#FA643F', label = 'Card')\n",
    "plt.hist(df[df['payment_type'] == 'Cash']['fare_amount'], histtype= 'barstacked',  bins= 20, edgecolor = 'k', color = '#FFBCAB', label = 'Cash')\n",
    "plt.legend()\n",
    "\n",
    "plt.subplot(1,2,2)\n",
    "plt.title('Distribution of Trip Distance')\n",
    "plt.hist(df[df['payment_type'] == 'Card']['fare_amount'], histtype= 'barstacked', bins= 20, edgecolor = 'k', color = '#FA643F', label = 'Card')\n",
    "plt.hist(df[df['payment_type'] == 'Cash']['fare_amount'], histtype= 'barstacked',  bins= 20, edgecolor = 'k', color = '#FFBCAB', label = 'Cash')\n",
    "plt.legend()\n",
    "plt.show()"
   ]
  },
  {
   "cell_type": "markdown",
   "id": "ff281c4b-d6b8-4db7-b64e-441755008473",
   "metadata": {
    "editable": true,
    "slideshow": {
     "slide_type": ""
    },
    "tags": []
   },
   "source": [
    "##### Find the mean and standard deviation of fare amount and trip distance"
   ]
  },
  {
   "cell_type": "code",
   "execution_count": 406,
   "id": "bbe08e95-3a98-4fd1-ba36-8f8b37e47707",
   "metadata": {},
   "outputs": [
    {
     "data": {
      "text/html": [
       "<div>\n",
       "<style scoped>\n",
       "    .dataframe tbody tr th:only-of-type {\n",
       "        vertical-align: middle;\n",
       "    }\n",
       "\n",
       "    .dataframe tbody tr th {\n",
       "        vertical-align: top;\n",
       "    }\n",
       "\n",
       "    .dataframe thead tr th {\n",
       "        text-align: left;\n",
       "    }\n",
       "\n",
       "    .dataframe thead tr:last-of-type th {\n",
       "        text-align: right;\n",
       "    }\n",
       "</style>\n",
       "<table border=\"1\" class=\"dataframe\">\n",
       "  <thead>\n",
       "    <tr>\n",
       "      <th></th>\n",
       "      <th colspan=\"2\" halign=\"left\">fare_amount</th>\n",
       "      <th colspan=\"2\" halign=\"left\">trip_distance</th>\n",
       "    </tr>\n",
       "    <tr>\n",
       "      <th></th>\n",
       "      <th>mean</th>\n",
       "      <th>std</th>\n",
       "      <th>mean</th>\n",
       "      <th>std</th>\n",
       "    </tr>\n",
       "    <tr>\n",
       "      <th>payment_type</th>\n",
       "      <th></th>\n",
       "      <th></th>\n",
       "      <th></th>\n",
       "      <th></th>\n",
       "    </tr>\n",
       "  </thead>\n",
       "  <tbody>\n",
       "    <tr>\n",
       "      <th>Card</th>\n",
       "      <td>9.844259</td>\n",
       "      <td>4.253694</td>\n",
       "      <td>2.148495</td>\n",
       "      <td>1.374259</td>\n",
       "    </tr>\n",
       "    <tr>\n",
       "      <th>Cash</th>\n",
       "      <td>9.561447</td>\n",
       "      <td>4.330578</td>\n",
       "      <td>2.028104</td>\n",
       "      <td>1.415177</td>\n",
       "    </tr>\n",
       "  </tbody>\n",
       "</table>\n",
       "</div>"
      ],
      "text/plain": [
       "             fare_amount           trip_distance          \n",
       "                    mean       std          mean       std\n",
       "payment_type                                              \n",
       "Card            9.844259  4.253694      2.148495  1.374259\n",
       "Cash            9.561447  4.330578      2.028104  1.415177"
      ]
     },
     "execution_count": 406,
     "metadata": {},
     "output_type": "execute_result"
    }
   ],
   "source": [
    "df.groupby('payment_type').agg({'fare_amount':['mean', 'std'], 'trip_distance':['mean', 'std']})"
   ]
  },
  {
   "cell_type": "raw",
   "id": "1897134f-f7d2-4d9a-9e2b-092dc903d1e7",
   "metadata": {},
   "source": [
    "Here, we can see that the mean of the card is greater than the cash, the std of cash is greater than card for both fare amount and trip dist "
   ]
  },
  {
   "cell_type": "markdown",
   "id": "1843fd2c-100e-41e3-b239-ebabfb5c4289",
   "metadata": {},
   "source": [
    "##### Find the % of customers who prefers to pay with card and cash."
   ]
  },
  {
   "cell_type": "raw",
   "id": "56dd65a4-f503-4264-a7e3-2eff54d0e2be",
   "metadata": {},
   "source": [
    "When it comes to show the simple %, we can use the pie chart or the donut chart. "
   ]
  },
  {
   "cell_type": "code",
   "execution_count": 346,
   "id": "38a65166-8af6-45e5-acfb-3445ee9760c9",
   "metadata": {},
   "outputs": [
    {
     "data": {
      "text/plain": [
       "0         Card\n",
       "1         Card\n",
       "2         Card\n",
       "3         Card\n",
       "5         Cash\n",
       "          ... \n",
       "355166    Card\n",
       "355167    Card\n",
       "355168    Card\n",
       "355169    Card\n",
       "355170    Card\n",
       "Name: payment_type, Length: 233683, dtype: object"
      ]
     },
     "execution_count": 346,
     "metadata": {},
     "output_type": "execute_result"
    }
   ],
   "source": [
    "df['payment_type']"
   ]
  },
  {
   "cell_type": "code",
   "execution_count": 348,
   "id": "2c860ab4-2fbe-4d6c-a43d-fc8fa07a6390",
   "metadata": {},
   "outputs": [
    {
     "data": {
      "image/png": "[encoded data removed]",
      "text/plain": [
       "<Figure size 640x480 with 1 Axes>"
      ]
     },
     "metadata": {},
     "output_type": "display_data"
    }
   ],
   "source": [
    "\n",
    "plt.title('Preference of payment type')\n",
    "plt.pie(df['payment_type'].value_counts(normalize= True), labels= df['payment_type'].value_counts().index,\n",
    "        startangle = 60, shadow= True, autopct= '%1.1f%%', colors= ['#FA643F', '#FFBCAB'])\n",
    "plt.show()"
   ]
  },
  {
   "cell_type": "markdown",
   "id": "c9e22746-b295-4c14-82d2-96e549ef2d4d",
   "metadata": {},
   "source": [
    "##### Analysis of payment type preference on the basis of Passesnger_count"
   ]
  },
  {
   "cell_type": "raw",
   "id": "c5cecc38-9753-43ae-ba6c-4ab061cc1742",
   "metadata": {},
   "source": [
    "payment type is 2 and the lets say passenger count is 5, so we can use stacked bar chart.\n",
    "Conditions to use stakced barchart: \n",
    "1. consider card and cash both as 100% which is 62.6%, out of which have to find how many passenger count: 1 paid with card, pass_count: 2 paid with card and so on "
   ]
  },
  {
   "cell_type": "markdown",
   "id": "f0e003ce-52b5-4beb-9460-cbd8dfda6182",
   "metadata": {},
   "source": [
    "##### Find the distribution of card and cash"
   ]
  },
  {
   "cell_type": "code",
   "execution_count": 408,
   "id": "6d04f49f-7408-40b0-b4ac-e584f3ac952f",
   "metadata": {},
   "outputs": [
    {
     "data": {
      "text/html": [
       "<div>\n",
       "<style scoped>\n",
       "    .dataframe tbody tr th:only-of-type {\n",
       "        vertical-align: middle;\n",
       "    }\n",
       "\n",
       "    .dataframe tbody tr th {\n",
       "        vertical-align: top;\n",
       "    }\n",
       "\n",
       "    .dataframe thead th {\n",
       "        text-align: right;\n",
       "    }\n",
       "</style>\n",
       "<table border=\"1\" class=\"dataframe\">\n",
       "  <thead>\n",
       "    <tr style=\"text-align: right;\">\n",
       "      <th></th>\n",
       "      <th></th>\n",
       "      <th>passenger_count</th>\n",
       "    </tr>\n",
       "    <tr>\n",
       "      <th>payment_type</th>\n",
       "      <th>passenger_count</th>\n",
       "      <th></th>\n",
       "    </tr>\n",
       "  </thead>\n",
       "  <tbody>\n",
       "    <tr>\n",
       "      <th rowspan=\"5\" valign=\"top\">Card</th>\n",
       "      <th>1</th>\n",
       "      <td>97087</td>\n",
       "    </tr>\n",
       "    <tr>\n",
       "      <th>2</th>\n",
       "      <td>29338</td>\n",
       "    </tr>\n",
       "    <tr>\n",
       "      <th>3</th>\n",
       "      <td>8822</td>\n",
       "    </tr>\n",
       "    <tr>\n",
       "      <th>4</th>\n",
       "      <td>4577</td>\n",
       "    </tr>\n",
       "    <tr>\n",
       "      <th>5</th>\n",
       "      <td>7165</td>\n",
       "    </tr>\n",
       "    <tr>\n",
       "      <th rowspan=\"5\" valign=\"top\">Cash</th>\n",
       "      <th>1</th>\n",
       "      <td>55853</td>\n",
       "    </tr>\n",
       "    <tr>\n",
       "      <th>2</th>\n",
       "      <td>16961</td>\n",
       "    </tr>\n",
       "    <tr>\n",
       "      <th>3</th>\n",
       "      <td>5788</td>\n",
       "    </tr>\n",
       "    <tr>\n",
       "      <th>4</th>\n",
       "      <td>4153</td>\n",
       "    </tr>\n",
       "    <tr>\n",
       "      <th>5</th>\n",
       "      <td>3939</td>\n",
       "    </tr>\n",
       "  </tbody>\n",
       "</table>\n",
       "</div>"
      ],
      "text/plain": [
       "                              passenger_count\n",
       "payment_type passenger_count                 \n",
       "Card         1                          97087\n",
       "             2                          29338\n",
       "             3                           8822\n",
       "             4                           4577\n",
       "             5                           7165\n",
       "Cash         1                          55853\n",
       "             2                          16961\n",
       "             3                           5788\n",
       "             4                           4153\n",
       "             5                           3939"
      ]
     },
     "execution_count": 408,
     "metadata": {},
     "output_type": "execute_result"
    }
   ],
   "source": [
    "passenger_count = df.groupby(['payment_type', 'passenger_count'])[['passenger_count']].count()\n",
    "passenger_count"
   ]
  },
  {
   "cell_type": "raw",
   "id": "33651d27-a119-4923-b7f3-31baffc6a762",
   "metadata": {},
   "source": [
    "Find the percentage contribution"
   ]
  },
  {
   "cell_type": "code",
   "execution_count": 410,
   "id": "9aa76014-fc7c-49fd-a297-7f332c16fb30",
   "metadata": {},
   "outputs": [],
   "source": [
    "passenger_count.rename(columns= {'passenger_count': 'count'}, inplace = True)\n",
    "passenger_count.reset_index(inplace= True)"
   ]
  },
  {
   "cell_type": "code",
   "execution_count": 412,
   "id": "53a4abf2-00a0-4e83-9839-789151a201e1",
   "metadata": {},
   "outputs": [
    {
     "data": {
      "text/html": [
       "<div>\n",
       "<style scoped>\n",
       "    .dataframe tbody tr th:only-of-type {\n",
       "        vertical-align: middle;\n",
       "    }\n",
       "\n",
       "    .dataframe tbody tr th {\n",
       "        vertical-align: top;\n",
       "    }\n",
       "\n",
       "    .dataframe thead th {\n",
       "        text-align: right;\n",
       "    }\n",
       "</style>\n",
       "<table border=\"1\" class=\"dataframe\">\n",
       "  <thead>\n",
       "    <tr style=\"text-align: right;\">\n",
       "      <th></th>\n",
       "      <th>payment_type</th>\n",
       "      <th>passenger_count</th>\n",
       "      <th>count</th>\n",
       "      <th>perc</th>\n",
       "    </tr>\n",
       "  </thead>\n",
       "  <tbody>\n",
       "    <tr>\n",
       "      <th>0</th>\n",
       "      <td>Card</td>\n",
       "      <td>1</td>\n",
       "      <td>97087</td>\n",
       "      <td>41.546454</td>\n",
       "    </tr>\n",
       "    <tr>\n",
       "      <th>1</th>\n",
       "      <td>Card</td>\n",
       "      <td>2</td>\n",
       "      <td>29338</td>\n",
       "      <td>12.554615</td>\n",
       "    </tr>\n",
       "    <tr>\n",
       "      <th>2</th>\n",
       "      <td>Card</td>\n",
       "      <td>3</td>\n",
       "      <td>8822</td>\n",
       "      <td>3.775200</td>\n",
       "    </tr>\n",
       "    <tr>\n",
       "      <th>3</th>\n",
       "      <td>Card</td>\n",
       "      <td>4</td>\n",
       "      <td>4577</td>\n",
       "      <td>1.958636</td>\n",
       "    </tr>\n",
       "    <tr>\n",
       "      <th>4</th>\n",
       "      <td>Card</td>\n",
       "      <td>5</td>\n",
       "      <td>7165</td>\n",
       "      <td>3.066119</td>\n",
       "    </tr>\n",
       "    <tr>\n",
       "      <th>5</th>\n",
       "      <td>Cash</td>\n",
       "      <td>1</td>\n",
       "      <td>55853</td>\n",
       "      <td>23.901182</td>\n",
       "    </tr>\n",
       "    <tr>\n",
       "      <th>6</th>\n",
       "      <td>Cash</td>\n",
       "      <td>2</td>\n",
       "      <td>16961</td>\n",
       "      <td>7.258123</td>\n",
       "    </tr>\n",
       "    <tr>\n",
       "      <th>7</th>\n",
       "      <td>Cash</td>\n",
       "      <td>3</td>\n",
       "      <td>5788</td>\n",
       "      <td>2.476860</td>\n",
       "    </tr>\n",
       "    <tr>\n",
       "      <th>8</th>\n",
       "      <td>Cash</td>\n",
       "      <td>4</td>\n",
       "      <td>4153</td>\n",
       "      <td>1.777194</td>\n",
       "    </tr>\n",
       "    <tr>\n",
       "      <th>9</th>\n",
       "      <td>Cash</td>\n",
       "      <td>5</td>\n",
       "      <td>3939</td>\n",
       "      <td>1.685617</td>\n",
       "    </tr>\n",
       "  </tbody>\n",
       "</table>\n",
       "</div>"
      ],
      "text/plain": [
       "  payment_type  passenger_count  count       perc\n",
       "0         Card                1  97087  41.546454\n",
       "1         Card                2  29338  12.554615\n",
       "2         Card                3   8822   3.775200\n",
       "3         Card                4   4577   1.958636\n",
       "4         Card                5   7165   3.066119\n",
       "5         Cash                1  55853  23.901182\n",
       "6         Cash                2  16961   7.258123\n",
       "7         Cash                3   5788   2.476860\n",
       "8         Cash                4   4153   1.777194\n",
       "9         Cash                5   3939   1.685617"
      ]
     },
     "execution_count": 412,
     "metadata": {},
     "output_type": "execute_result"
    }
   ],
   "source": [
    "passenger_count['perc']= (passenger_count['count']/passenger_count['count'].sum())*100\n",
    "passenger_count"
   ]
  },
  {
   "cell_type": "raw",
   "id": "64303ccb-faa0-495b-850c-30c866c1f24b",
   "metadata": {},
   "source": [
    "For plotting this, we need tp create a customer df in which we will put the data after transforming it. "
   ]
  },
  {
   "cell_type": "code",
   "execution_count": 414,
   "id": "f5bddb7f-262d-4d8c-b3c2-7cbd0ee762ba",
   "metadata": {},
   "outputs": [
    {
     "data": {
      "text/html": [
       "<div>\n",
       "<style scoped>\n",
       "    .dataframe tbody tr th:only-of-type {\n",
       "        vertical-align: middle;\n",
       "    }\n",
       "\n",
       "    .dataframe tbody tr th {\n",
       "        vertical-align: top;\n",
       "    }\n",
       "\n",
       "    .dataframe thead th {\n",
       "        text-align: right;\n",
       "    }\n",
       "</style>\n",
       "<table border=\"1\" class=\"dataframe\">\n",
       "  <thead>\n",
       "    <tr style=\"text-align: right;\">\n",
       "      <th></th>\n",
       "      <th>payment_type</th>\n",
       "      <th>1</th>\n",
       "      <th>2</th>\n",
       "      <th>3</th>\n",
       "      <th>4</th>\n",
       "      <th>5</th>\n",
       "    </tr>\n",
       "  </thead>\n",
       "  <tbody>\n",
       "    <tr>\n",
       "      <th>0</th>\n",
       "      <td>card</td>\n",
       "      <td>41.546454</td>\n",
       "      <td>12.554615</td>\n",
       "      <td>3.7752</td>\n",
       "      <td>1.958636</td>\n",
       "      <td>3.066119</td>\n",
       "    </tr>\n",
       "    <tr>\n",
       "      <th>1</th>\n",
       "      <td>cash</td>\n",
       "      <td>23.901182</td>\n",
       "      <td>7.258123</td>\n",
       "      <td>2.47686</td>\n",
       "      <td>1.777194</td>\n",
       "      <td>1.685617</td>\n",
       "    </tr>\n",
       "  </tbody>\n",
       "</table>\n",
       "</div>"
      ],
      "text/plain": [
       "  payment_type          1          2        3         4         5\n",
       "0         card  41.546454  12.554615   3.7752  1.958636  3.066119\n",
       "1         cash  23.901182   7.258123  2.47686  1.777194  1.685617"
      ]
     },
     "execution_count": 414,
     "metadata": {},
     "output_type": "execute_result"
    }
   ],
   "source": [
    "df2 = pd.DataFrame(columns = ['payment_type', 1,2,3,4,5])\n",
    "df2['payment_type'] = ['card', 'cash']\n",
    "df2.iloc[0,1:] = passenger_count.iloc[0:5, -1]\n",
    "df2.iloc[1,1:] = passenger_count.iloc[5:, -1]\n",
    "df2"
   ]
  },
  {
   "cell_type": "code",
   "execution_count": 416,
   "id": "c80f41ee-c06b-4f51-bddf-9ef906ac3c07",
   "metadata": {},
   "outputs": [
    {
     "data": {
      "image/png": "[encoded data removed]",
      "text/plain": [
       "<Figure size 2000x600 with 1 Axes>"
      ]
     },
     "metadata": {},
     "output_type": "display_data"
    }
   ],
   "source": [
    "# create the plot\n",
    "fig, ax = plt.subplots(figsize = (20,6))\n",
    "\n",
    "# Plot the data\n",
    "ax = df2.plot(x= 'payment_type', kind = 'barh', stacked= True, color = ['#FA643F', '#FFBCAB', '#CBB2B2', '#F1F1F1', '#FD9F9F'], ax = ax)\n",
    "\n",
    "# Add percentage text\n",
    "for p in ax.patches:\n",
    "    width = p.get_width()     # Get bar width\n",
    "    height = p.get_height()   # Get bar height\n",
    "    x, y = p.get_xy()         # Get bottom-left coordinates\n",
    "    \n",
    "    ax.text(x + width /2,\n",
    "            y + height/2,\n",
    "            '{:.0f}%'.format(width),\n",
    "            horizontalalignment = 'center',\n",
    "            verticalalignment = 'center',\n",
    "            fontsize=10, color='black')\n",
    "\n",
    "plt.show()"
   ]
  },
  {
   "cell_type": "markdown",
   "id": "bd78089a-1451-4420-be0d-4db259c3a88d",
   "metadata": {},
   "source": [
    "##### The results generated can be proved using Hypothesis testing, that is most of the customers prefer to pay with card than cash. "
   ]
  },
  {
   "cell_type": "markdown",
   "id": "295b2430-08d1-4b32-b4cf-076efdb671d1",
   "metadata": {},
   "source": [
    "### Hypothesis Testing"
   ]
  },
  {
   "cell_type": "markdown",
   "id": "3cd24faa-03b5-4ca4-88cb-1b9ab7eb8c5b",
   "metadata": {},
   "source": [
    "#### Null hypotesis: There is no differencce in average fare between customers who use credit card and customers who use cash. \n",
    "\n",
    "#### Alternate hypothesis: There is a diff in avg fare between customers who use credit card and customers who use cash. "
   ]
  },
  {
   "cell_type": "raw",
   "id": "10548c54-8060-4189-8203-ba82ebbc8042",
   "metadata": {},
   "source": [
    "sample 1  - CX paying with card\n",
    "sample 2 - CX paying with cash\n",
    "\n",
    "Compare mean and average of these 2 samples. \n",
    "\n",
    "Fare amount is a continuous value, so chi sqaure test can't be performed. \n",
    "Annova test is performed when we have 2 or more than 2 groups.\n",
    "\n",
    "Z-test - Requirements - dataset should dbe large that is population standard deviation should be known and the data should be normally distributed. \n",
    "condition 1 - population standard deviation - we don't have much CX data and and removed most of the customers due to several reasons, so                  doesn't know the PSD.\n",
    "\n",
    "condition 2 - large dataset - yes, it is.\n",
    "\n",
    "condition 3 - if fare amount follows normal distribution - to test this we have several statistical tests, but we'll test visually using                   QQ(quantile - quantile) plot. \n",
    "\n",
    "Note: Best use case of QQ plot - to check if the data is normally ditributed. If the plot gets aligned diagonally, the data is normally            distributed. "
   ]
  },
  {
   "cell_type": "code",
   "execution_count": 418,
   "id": "be03bd95-9710-4223-b09c-63b715457ea8",
   "metadata": {},
   "outputs": [
    {
     "data": {
      "image/png": "[encoded data removed]",
      "text/plain": [
       "<Figure size 640x480 with 1 Axes>"
      ]
     },
     "metadata": {},
     "output_type": "display_data"
    }
   ],
   "source": [
    "sm.qqplot(df['fare_amount'], line = '45')\n",
    "plt.show()"
   ]
  },
  {
   "cell_type": "code",
   "execution_count": 368,
   "id": "4ad17ccb-0420-44e5-8ad1-22019fdbae54",
   "metadata": {},
   "outputs": [
    {
     "name": "stdout",
     "output_type": "stream",
     "text": [
      "Index(['payment_type', 1, 2, 3, 4, 5], dtype='object')\n"
     ]
    }
   ],
   "source": [
    "print(df.columns)"
   ]
  },
  {
   "cell_type": "raw",
   "id": "b40be13d-82a1-49fe-b8d5-9ba7ae71d86e",
   "metadata": {},
   "source": [
    "The Q-Q plot isn't diagonally aligned, this says the fare_amount data is not normally distributed. Also, with the histogram, we can see that the data is right skewed, that means it is not normally distributed. "
   ]
  },
  {
   "cell_type": "raw",
   "id": "06d56f90-3e28-4de0-8329-6106ad75b004",
   "metadata": {},
   "source": [
    "T-Test - this can be used when we have small data and when we don't have the population standard deviation or unknown. "
   ]
  },
  {
   "cell_type": "code",
   "execution_count": 420,
   "id": "aeaf4aff-0dc9-4ba7-9cc7-f2f72405b2cc",
   "metadata": {},
   "outputs": [],
   "source": [
    "# Create the samples\n",
    "card_sample = df[df['payment_type'] == 'Card']['fare_amount']\n",
    "cash_sample = df[df['payment_type'] == 'Cash']['fare_amount']"
   ]
  },
  {
   "cell_type": "code",
   "execution_count": 422,
   "id": "423fcb66-1dbc-4a90-9a87-e76464b4479c",
   "metadata": {},
   "outputs": [
    {
     "name": "stdout",
     "output_type": "stream",
     "text": [
      "T-Statistics 15.350700238914365 p-Value 3.788278218118626e-53\n"
     ]
    }
   ],
   "source": [
    "t_stats, p_value = st.ttest_ind(a = card_sample, b= cash_sample, equal_var= False)\n",
    "print('T-Statistics', t_stats, 'p-Value', p_value)"
   ]
  },
  {
   "cell_type": "code",
   "execution_count": 424,
   "id": "90c0dc28-4203-42d8-a5de-7d8e896b76da",
   "metadata": {},
   "outputs": [
    {
     "data": {
      "text/plain": [
       "True"
      ]
     },
     "execution_count": 424,
     "metadata": {},
     "output_type": "execute_result"
    }
   ],
   "source": [
    "3.788278218118626e-53 < 0.05"
   ]
  },
  {
   "cell_type": "raw",
   "id": "4553ec50-7b52-4808-b270-3ae5c5ba871d",
   "metadata": {
    "jp-MarkdownHeadingCollapsed": true
   },
   "source": [
    "p_value < Significance value - 0.05, hence, reject the null-hypothesis. "
   ]
  },
  {
   "cell_type": "markdown",
   "id": "4586a1b0-49af-43a5-a5d0-1d02df09b244",
   "metadata": {},
   "source": [
    "### Thus, we can clonclude that our Alernate Hypothesis is correct that there is a big difference in average fare of customers who pay with      credit card than thte customer who pay with cash."
   ]
  },
  {
   "cell_type": "code",
   "execution_count": null,
   "id": "8ba767bc-c6ce-4a04-bc84-15412a1739b8",
   "metadata": {},
   "outputs": [],
   "source": []
  }
 ],
 "metadata": {
  "kernelspec": {
   "display_name": "Python 3 (ipykernel)",
   "language": "python",
   "name": "python3"
  },
  "language_info": {
   "codemirror_mode": {
    "name": "ipython",
    "version": 3
   },
   "file_extension": ".py",
   "mimetype": "text/x-python",
   "name": "python",
   "nbconvert_exporter": "python",
   "pygments_lexer": "ipython3",
   "version": "3.12.7"
  }
 },
 "nbformat": 4,
 "nbformat_minor": 5
}

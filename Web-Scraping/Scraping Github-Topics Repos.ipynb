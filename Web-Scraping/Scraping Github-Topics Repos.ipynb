{
 "cells": [
  {
   "cell_type": "markdown",
   "id": "e3e6393a-b083-46af-83a7-f6a80c9635c9",
   "metadata": {},
   "source": [
    "## Scraping Github Topics Repositories"
   ]
  },
  {
   "cell_type": "markdown",
   "id": "852d3ac0-451d-4999-a5f6-c3cea62c246e",
   "metadata": {},
   "source": [
    "### Pick a website and describe your objective\n",
    "\n",
    "- Browse through different sites and pick on to scrape.\n",
    "- Identify the information that you'd like to scrape. Decide the format of the o/p CSV file.\n",
    "- Summarize the project idea and outline the startegy. \n"
   ]
  },
  {
   "cell_type": "markdown",
   "id": "8df76fb9-73c9-42db-bb1e-e9a286959f8b",
   "metadata": {},
   "source": [
    "### Project Outline\n",
    "- We're going to scrape https://github.com/topics\n",
    "- We'll get a list of topics. For each topic we'll get the topic title, topic page URL and topic description\n",
    "- For each topic, we'll get the top 25 repositories in the topic from the topic page\n",
    "- For each repository, we'll have the repo name, username, stars and repo URL\n",
    "- For each topic, we'll create a CSV file in the following format:\n",
    "  ```\n",
    "  Repo name,username,stars,repo URL\n",
    "  three.js,mrdoob,69700,https://github.com/mrdoob/three.js\n",
    "  ```"
   ]
  },
  {
   "cell_type": "markdown",
   "id": "61f38dcf-677c-4129-a86c-c2a44e5f3066",
   "metadata": {},
   "source": [
    "### Use the requests library to donwload webpages"
   ]
  },
  {
   "cell_type": "code",
   "execution_count": 13,
   "id": "2fc923a5-51a3-4a80-947f-a50eaa6f27ed",
   "metadata": {},
   "outputs": [],
   "source": [
    "!pip install requests --upgrade --quiet"
   ]
  },
  {
   "cell_type": "code",
   "execution_count": 15,
   "id": "d58a3e3c-360e-42a7-8b52-21187a2bda0f",
   "metadata": {},
   "outputs": [],
   "source": [
    "import requests"
   ]
  },
  {
   "cell_type": "code",
   "execution_count": 17,
   "id": "e357130d-a447-464e-8627-0c42926d3eca",
   "metadata": {},
   "outputs": [],
   "source": [
    "# get the webpage\n",
    "topics_url = 'https://github.com/topics'"
   ]
  },
  {
   "cell_type": "code",
   "execution_count": 19,
   "id": "8c1cc23e-556b-4796-9deb-db3e96b4483d",
   "metadata": {},
   "outputs": [],
   "source": [
    "# dowload the url\n",
    "response = requests.get(topics_url)"
   ]
  },
  {
   "cell_type": "code",
   "execution_count": 21,
   "id": "909ce0f8-39bb-47ce-bba6-3d3c9fd230c3",
   "metadata": {},
   "outputs": [
    {
     "data": {
      "text/plain": [
       "200"
      ]
     },
     "execution_count": 21,
     "metadata": {},
     "output_type": "execute_result"
    }
   ],
   "source": [
    "# check the status of the download\n",
    "response.status_code"
   ]
  },
  {
   "cell_type": "code",
   "execution_count": 23,
   "id": "834dfe7f-0e97-43f6-a6c2-aea805d16b39",
   "metadata": {},
   "outputs": [
    {
     "data": {
      "text/plain": [
       "'\\n\\n<!DOCTYPE html>\\n<html\\n  lang=\"en\"\\n  \\n  data-color-mode=\"auto\" data-light-theme=\"light\" data-dark-theme=\"dark\"\\n  data-a11y-animated-images=\"system\" data-a11y-link-underlines=\"true\"\\n  \\n  >\\n\\n\\n\\n  <head>\\n    <meta charset=\"utf-8\">\\n  <link rel=\"dns-prefetch\" href=\"https://github.githubassets.com\">\\n  <link rel=\"dns-prefetch\" href=\"https://avatars.githubusercontent.com\">\\n  <link rel=\"dns-prefetch\" href=\"https://github-cloud.s3.amazonaws.com\">\\n  <link rel=\"dns-prefetch\" href=\"https://user-images.githubusercontent.com/\">\\n  <link rel=\"preconnect\" href=\"https://github.githubassets.com\" crossorigin>\\n  <link rel=\"preconnect\" href=\"https://avatars.githubusercontent.com\">\\n\\n  \\n\\n  <link crossorigin=\"anonymous\" media=\"all\" rel=\"stylesheet\" href=\"https://github.githubassets.com/assets/light-7aa84bb7e11e.css\" /><link crossorigin=\"anonymous\" media=\"all\" rel=\"stylesheet\" href=\"https://github.githubassets.com/assets/dark-f65db3e8d171.css\" /><link data-color-theme=\"dark_dimmed\" crossorigin=\"anonymous\" media='"
      ]
     },
     "execution_count": 23,
     "metadata": {},
     "output_type": "execute_result"
    }
   ],
   "source": [
    "# check the content of the webpage\n",
    "page_content = response.text\n",
    "\n",
    "page_content[:1000]"
   ]
  },
  {
   "cell_type": "code",
   "execution_count": 33,
   "id": "00046d77-0c42-439c-a7e4-d295f7d2b75a",
   "metadata": {},
   "outputs": [],
   "source": [
    "# Save the page content in HTML\n",
    "with open('webpage.html', 'w',  encoding='utf-8') as f:\n",
    "    f.write(page_content)"
   ]
  },
  {
   "cell_type": "markdown",
   "id": "3bc7f6de-6e34-49ff-b3de-75fdc45596b6",
   "metadata": {},
   "source": [
    "### Use Beautiful soup to parse and extract information"
   ]
  },
  {
   "cell_type": "code",
   "execution_count": 35,
   "id": "92ec48b1-d297-461e-ba00-f72b97b6baaa",
   "metadata": {},
   "outputs": [],
   "source": [
    "!pip install beautifulsoup4 --upgrade --quiet"
   ]
  },
  {
   "cell_type": "code",
   "execution_count": 37,
   "id": "3c3fa63b-fbcd-43a8-b578-945a97502b70",
   "metadata": {},
   "outputs": [],
   "source": [
    "from bs4 import BeautifulSoup"
   ]
  },
  {
   "cell_type": "code",
   "execution_count": 117,
   "id": "1e56a6a6-954b-4cf4-9d0b-57d5a55a0134",
   "metadata": {},
   "outputs": [],
   "source": [
    "# parse the document\n",
    "doc = BeautifulSoup(page_content, 'html.parser')"
   ]
  },
  {
   "cell_type": "code",
   "execution_count": 43,
   "id": "f0f66800-0c4a-4240-8500-621aa51d9fa7",
   "metadata": {},
   "outputs": [
    {
     "data": {
      "text/plain": [
       "bs4.BeautifulSoup"
      ]
     },
     "execution_count": 43,
     "metadata": {},
     "output_type": "execute_result"
    }
   ],
   "source": [
    "# check the type of the doc\n",
    "type(doc)"
   ]
  },
  {
   "cell_type": "code",
   "execution_count": 53,
   "id": "70d45f11-ee76-4b08-925c-3f8e120d00ee",
   "metadata": {},
   "outputs": [],
   "source": [
    "# Find the class for topics by inspecting the webpage \n",
    "\n",
    "selection_class = 'f3 lh-condensed mb-0 mt-1 Link--primary'\n",
    "\n",
    "topic_title_tags = doc.find_all('p', {'class': selection_class})"
   ]
  },
  {
   "cell_type": "code",
   "execution_count": 55,
   "id": "937b66c5-7635-4764-8a14-a0d5033d8647",
   "metadata": {},
   "outputs": [
    {
     "data": {
      "text/plain": [
       "30"
      ]
     },
     "execution_count": 55,
     "metadata": {},
     "output_type": "execute_result"
    }
   ],
   "source": [
    "len(topic_title_tags)"
   ]
  },
  {
   "cell_type": "code",
   "execution_count": 57,
   "id": "c738f558-c333-453d-92f1-a5c8c561c722",
   "metadata": {},
   "outputs": [
    {
     "data": {
      "text/plain": [
       "[<p class=\"f3 lh-condensed mb-0 mt-1 Link--primary\">3D</p>,\n",
       " <p class=\"f3 lh-condensed mb-0 mt-1 Link--primary\">Ajax</p>,\n",
       " <p class=\"f3 lh-condensed mb-0 mt-1 Link--primary\">Algorithm</p>,\n",
       " <p class=\"f3 lh-condensed mb-0 mt-1 Link--primary\">Amp</p>,\n",
       " <p class=\"f3 lh-condensed mb-0 mt-1 Link--primary\">Android</p>]"
      ]
     },
     "execution_count": 57,
     "metadata": {},
     "output_type": "execute_result"
    }
   ],
   "source": [
    "topic_title_tags[:5]"
   ]
  },
  {
   "cell_type": "code",
   "execution_count": 59,
   "id": "6ce1e782-959d-4d87-a302-8dc12b97f6d8",
   "metadata": {},
   "outputs": [],
   "source": [
    "# find the topic description\n",
    "desc_selector = 'f5 color-fg-muted mb-0 mt-1'\n",
    "\n",
    "topic_desc_tags = doc.find_all('p', {'class': desc_selector})"
   ]
  },
  {
   "cell_type": "code",
   "execution_count": 61,
   "id": "37a6d6e6-a70e-4a47-abe9-22082b0867c7",
   "metadata": {},
   "outputs": [
    {
     "data": {
      "text/plain": [
       "[<p class=\"f5 color-fg-muted mb-0 mt-1\">\n",
       "           3D refers to the use of three-dimensional graphics, modeling, and animation in various industries.\n",
       "         </p>,\n",
       " <p class=\"f5 color-fg-muted mb-0 mt-1\">\n",
       "           Ajax is a technique for creating interactive web applications.\n",
       "         </p>,\n",
       " <p class=\"f5 color-fg-muted mb-0 mt-1\">\n",
       "           Algorithms are self-contained sequences that carry out a variety of tasks.\n",
       "         </p>,\n",
       " <p class=\"f5 color-fg-muted mb-0 mt-1\">\n",
       "           Amp is a non-blocking concurrency library for PHP.\n",
       "         </p>,\n",
       " <p class=\"f5 color-fg-muted mb-0 mt-1\">\n",
       "           Android is an operating system built by Google designed for mobile devices.\n",
       "         </p>]"
      ]
     },
     "execution_count": 61,
     "metadata": {},
     "output_type": "execute_result"
    }
   ],
   "source": [
    "topic_desc_tags[:5]"
   ]
  },
  {
   "cell_type": "code",
   "execution_count": 67,
   "id": "78743560-286d-45fd-bff0-87b5ad9b8fec",
   "metadata": {},
   "outputs": [],
   "source": [
    "# now grab the topic url\n",
    "\n",
    "topic_title_tag0 = topic_title_tags[0]"
   ]
  },
  {
   "cell_type": "code",
   "execution_count": 69,
   "id": "f102f48f-85db-4a4f-b092-2563b54c6eeb",
   "metadata": {},
   "outputs": [],
   "source": [
    "div_tag = topic_title_tag0.parent"
   ]
  },
  {
   "cell_type": "code",
   "execution_count": 71,
   "id": "96da4cfb-118f-4c3b-a8cb-c67ff076f966",
   "metadata": {},
   "outputs": [],
   "source": [
    "topic_link_tags = doc.find_all('a', {'class' : 'no-underline flex-1 d-flex flex-column'})"
   ]
  },
  {
   "cell_type": "code",
   "execution_count": 73,
   "id": "0a161d94-3bfc-465b-8457-f4e5fd90e1ec",
   "metadata": {},
   "outputs": [
    {
     "data": {
      "text/plain": [
       "30"
      ]
     },
     "execution_count": 73,
     "metadata": {},
     "output_type": "execute_result"
    }
   ],
   "source": [
    "len(topic_link_tags)"
   ]
  },
  {
   "cell_type": "code",
   "execution_count": 79,
   "id": "01443103-232f-4cc3-a95f-af47193a8a8e",
   "metadata": {},
   "outputs": [
    {
     "name": "stdout",
     "output_type": "stream",
     "text": [
      "https://github.com/topics/3d\n"
     ]
    }
   ],
   "source": [
    "# verify if we fetched the correct topic link\n",
    "topic0_url = 'https://github.com' + topic_link_tags[0]['href']\n",
    "print(topic0_url)"
   ]
  },
  {
   "cell_type": "code",
   "execution_count": 83,
   "id": "9fdb0d96-5324-46ee-a81c-dd37a750ede5",
   "metadata": {},
   "outputs": [
    {
     "name": "stdout",
     "output_type": "stream",
     "text": [
      "['3D', 'Ajax', 'Algorithm', 'Amp', 'Android', 'Angular', 'Ansible', 'API', 'Arduino', 'ASP.NET', 'Awesome Lists', 'Amazon Web Services', 'Azure', 'Babel', 'Bash', 'Bitcoin', 'Bootstrap', 'Bot', 'C', 'Chrome', 'Chrome extension', 'Command-line interface', 'Clojure', 'Code quality', 'Code review', 'Compiler', 'Continuous integration', 'C++', 'Cryptocurrency', 'Crystal']\n"
     ]
    }
   ],
   "source": [
    "# create a list of topic titles\n",
    "\n",
    "topic_titles = []\n",
    "for tag in topic_title_tags:\n",
    "    topic_titles.append(tag.text)\n",
    "\n",
    "print(topic_titles)"
   ]
  },
  {
   "cell_type": "code",
   "execution_count": 101,
   "id": "cda85db8-6c6c-4742-8f0a-85c90f42bf26",
   "metadata": {},
   "outputs": [
    {
     "data": {
      "text/plain": [
       "['3D refers to the use of three-dimensional graphics, modeling, and animation in various industries.',\n",
       " 'Ajax is a technique for creating interactive web applications.',\n",
       " 'Algorithms are self-contained sequences that carry out a variety of tasks.',\n",
       " 'Amp is a non-blocking concurrency library for PHP.',\n",
       " 'Android is an operating system built by Google designed for mobile devices.']"
      ]
     },
     "execution_count": 101,
     "metadata": {},
     "output_type": "execute_result"
    }
   ],
   "source": [
    "topic_descriptions = []\n",
    "\n",
    "for tag in topic_desc_tags:\n",
    "    topic_descriptions.append(tag.text.strip())\n",
    "\n",
    "topic_descriptions[:5]"
   ]
  },
  {
   "cell_type": "code",
   "execution_count": 115,
   "id": "c87d2f87-abf7-43ba-916e-f993ef13fbb5",
   "metadata": {},
   "outputs": [
    {
     "data": {
      "text/plain": [
       "['https://github.com/topics/3d',\n",
       " 'https://github.com/topics/ajax',\n",
       " 'https://github.com/topics/algorithm',\n",
       " 'https://github.com/topics/amphp',\n",
       " 'https://github.com/topics/android']"
      ]
     },
     "execution_count": 115,
     "metadata": {},
     "output_type": "execute_result"
    }
   ],
   "source": [
    "topic_urls = []\n",
    "base_url = 'https://github.com'\n",
    "\n",
    "for tag in topic_link_tags:\n",
    "    topic_urls.append(base_url + tag['href'])\n",
    "\n",
    "topic_urls[:5]"
   ]
  },
  {
   "cell_type": "code",
   "execution_count": 120,
   "id": "9e4827bd-74ff-408c-952c-d7d15583988b",
   "metadata": {},
   "outputs": [],
   "source": [
    "# create a pandas dataframe out of the extracted info\n",
    "\n",
    "import pandas as pd"
   ]
  },
  {
   "cell_type": "code",
   "execution_count": 122,
   "id": "b41a343e-c506-4c28-855f-c36565647b80",
   "metadata": {},
   "outputs": [],
   "source": [
    "topics_dict = {\n",
    "    'Title': topic_titles,\n",
    "    'Description': topic_descriptions,\n",
    "    'URL': topic_urls\n",
    "              }"
   ]
  },
  {
   "cell_type": "code",
   "execution_count": 132,
   "id": "a4f791ce-4133-40cc-8603-d0416a65dd77",
   "metadata": {},
   "outputs": [
    {
     "data": {
      "text/html": [
       "<div>\n",
       "<style scoped>\n",
       "    .dataframe tbody tr th:only-of-type {\n",
       "        vertical-align: middle;\n",
       "    }\n",
       "\n",
       "    .dataframe tbody tr th {\n",
       "        vertical-align: top;\n",
       "    }\n",
       "\n",
       "    .dataframe thead th {\n",
       "        text-align: right;\n",
       "    }\n",
       "</style>\n",
       "<table border=\"1\" class=\"dataframe\">\n",
       "  <thead>\n",
       "    <tr style=\"text-align: right;\">\n",
       "      <th></th>\n",
       "      <th>Title</th>\n",
       "      <th>Description</th>\n",
       "      <th>URL</th>\n",
       "    </tr>\n",
       "  </thead>\n",
       "  <tbody>\n",
       "    <tr>\n",
       "      <th>0</th>\n",
       "      <td>3D</td>\n",
       "      <td>3D refers to the use of three-dimensional grap...</td>\n",
       "      <td>https://github.com/topics/3d</td>\n",
       "    </tr>\n",
       "    <tr>\n",
       "      <th>1</th>\n",
       "      <td>Ajax</td>\n",
       "      <td>Ajax is a technique for creating interactive w...</td>\n",
       "      <td>https://github.com/topics/ajax</td>\n",
       "    </tr>\n",
       "    <tr>\n",
       "      <th>2</th>\n",
       "      <td>Algorithm</td>\n",
       "      <td>Algorithms are self-contained sequences that c...</td>\n",
       "      <td>https://github.com/topics/algorithm</td>\n",
       "    </tr>\n",
       "    <tr>\n",
       "      <th>3</th>\n",
       "      <td>Amp</td>\n",
       "      <td>Amp is a non-blocking concurrency library for ...</td>\n",
       "      <td>https://github.com/topics/amphp</td>\n",
       "    </tr>\n",
       "    <tr>\n",
       "      <th>4</th>\n",
       "      <td>Android</td>\n",
       "      <td>Android is an operating system built by Google...</td>\n",
       "      <td>https://github.com/topics/android</td>\n",
       "    </tr>\n",
       "  </tbody>\n",
       "</table>\n",
       "</div>"
      ],
      "text/plain": [
       "       Title                                        Description  \\\n",
       "0         3D  3D refers to the use of three-dimensional grap...   \n",
       "1       Ajax  Ajax is a technique for creating interactive w...   \n",
       "2  Algorithm  Algorithms are self-contained sequences that c...   \n",
       "3        Amp  Amp is a non-blocking concurrency library for ...   \n",
       "4    Android  Android is an operating system built by Google...   \n",
       "\n",
       "                                   URL  \n",
       "0         https://github.com/topics/3d  \n",
       "1       https://github.com/topics/ajax  \n",
       "2  https://github.com/topics/algorithm  \n",
       "3      https://github.com/topics/amphp  \n",
       "4    https://github.com/topics/android  "
      ]
     },
     "execution_count": 132,
     "metadata": {},
     "output_type": "execute_result"
    }
   ],
   "source": [
    "topics_df = pd.DataFrame(topics_dict)\n",
    "topics_df.head(5)"
   ]
  },
  {
   "cell_type": "markdown",
   "id": "fcb7ed6e-f6ef-47bb-9116-fb432c501a1b",
   "metadata": {},
   "source": [
    "### Create CSV file with the extracted information"
   ]
  },
  {
   "cell_type": "code",
   "execution_count": 134,
   "id": "362dc2ab-70fb-418a-adf6-4c95f02bcf74",
   "metadata": {},
   "outputs": [],
   "source": [
    "topics_df.to_csv('Github_Topics', index= None)"
   ]
  },
  {
   "cell_type": "markdown",
   "id": "6fc02478-67f3-4dff-953c-21e5191af568",
   "metadata": {},
   "source": [
    "### Getting information out of a topic page"
   ]
  },
  {
   "cell_type": "code",
   "execution_count": 137,
   "id": "32b50aa3-e78f-4326-b7b4-a2f8c7e8b801",
   "metadata": {},
   "outputs": [],
   "source": [
    "topic_page_url = topic_urls[0]"
   ]
  },
  {
   "cell_type": "code",
   "execution_count": 139,
   "id": "f0600959-ef69-49bd-96c8-49ba8a5df549",
   "metadata": {},
   "outputs": [
    {
     "data": {
      "text/plain": [
       "'https://github.com/topics/3d'"
      ]
     },
     "execution_count": 139,
     "metadata": {},
     "output_type": "execute_result"
    }
   ],
   "source": [
    "topic_page_url"
   ]
  },
  {
   "cell_type": "code",
   "execution_count": 141,
   "id": "ea54cfca-b736-4041-b667-1863bf351428",
   "metadata": {},
   "outputs": [],
   "source": [
    "response  = requests.get(topic_page_url)"
   ]
  },
  {
   "cell_type": "code",
   "execution_count": 143,
   "id": "459e90f6-b550-4d1e-bfb5-405f48da5aee",
   "metadata": {},
   "outputs": [
    {
     "data": {
      "text/plain": [
       "200"
      ]
     },
     "execution_count": 143,
     "metadata": {},
     "output_type": "execute_result"
    }
   ],
   "source": [
    "response.status_code"
   ]
  },
  {
   "cell_type": "code",
   "execution_count": 151,
   "id": "b456e9c5-c018-4e8b-aac3-5f09387710e2",
   "metadata": {},
   "outputs": [
    {
     "data": {
      "text/plain": [
       "522605"
      ]
     },
     "execution_count": 151,
     "metadata": {},
     "output_type": "execute_result"
    }
   ],
   "source": [
    "len(response.text)"
   ]
  },
  {
   "cell_type": "code",
   "execution_count": 147,
   "id": "56a84519-0062-4b6a-b4ea-790333d518da",
   "metadata": {},
   "outputs": [],
   "source": [
    "topic_doc = BeautifulSoup(response.text, 'html.parser')"
   ]
  },
  {
   "cell_type": "code",
   "execution_count": 254,
   "id": "1f243eb4-c2d5-4dfe-b7c4-8f67cd6bfc6f",
   "metadata": {},
   "outputs": [],
   "source": [
    "h3_selection_class = 'f3 color-fg-muted text-normal lh-condensed'\n",
    "repo_tags = topic_doc.find_all('h3', {'class': h3_selection_class})"
   ]
  },
  {
   "cell_type": "code",
   "execution_count": 165,
   "id": "f4ca5d98-3eed-460e-88a6-75747eaeefd9",
   "metadata": {},
   "outputs": [
    {
     "data": {
      "text/plain": [
       "20"
      ]
     },
     "execution_count": 165,
     "metadata": {},
     "output_type": "execute_result"
    }
   ],
   "source": [
    "len(repo_tags)"
   ]
  },
  {
   "cell_type": "code",
   "execution_count": 169,
   "id": "42ac3fb6-8bc5-4b3e-abf0-5483f6f89391",
   "metadata": {},
   "outputs": [
    {
     "data": {
      "text/plain": [
       "<h3 class=\"f3 color-fg-muted text-normal lh-condensed\">\n",
       "<a class=\"Link\" data-hydro-click='{\"event_type\":\"explore.click\",\"payload\":{\"click_context\":\"REPOSITORY_CARD\",\"click_target\":\"OWNER\",\"click_visual_representation\":\"REPOSITORY_OWNER_HEADING\",\"actor_id\":null,\"record_id\":97088,\"originating_url\":\"https://github.com/topics/3d\",\"user_id\":null}}' data-hydro-click-hmac=\"c72fbd5c69a8ee7c9c53a4e65de2b93c8fc7552dd793945819639bc165c0f0ba\" data-turbo=\"false\" data-view-component=\"true\" href=\"/mrdoob\">mrdoob</a>          /\n",
       "          <a class=\"Link text-bold wb-break-word\" data-hydro-click='{\"event_type\":\"explore.click\",\"payload\":{\"click_context\":\"REPOSITORY_CARD\",\"click_target\":\"REPOSITORY\",\"click_visual_representation\":\"REPOSITORY_NAME_HEADING\",\"actor_id\":null,\"record_id\":576201,\"originating_url\":\"https://github.com/topics/3d\",\"user_id\":null}}' data-hydro-click-hmac=\"4a2667db3d63a1739c412e059e5da95afe419df83f70949b5d59dc3478f5c79a\" data-turbo=\"false\" data-view-component=\"true\" href=\"/mrdoob/three.js\">three.js</a> </h3>"
      ]
     },
     "execution_count": 169,
     "metadata": {},
     "output_type": "execute_result"
    }
   ],
   "source": [
    "# check the repo tag\n",
    "repo_tags[0]"
   ]
  },
  {
   "cell_type": "code",
   "execution_count": 181,
   "id": "ce88a644-fd26-4a92-920d-4bd54a95223c",
   "metadata": {},
   "outputs": [],
   "source": [
    "a_tags = repo_tags[0].find_all('a')"
   ]
  },
  {
   "cell_type": "code",
   "execution_count": 177,
   "id": "e9ad6fa4-757c-4846-82f9-c666cee9bb3e",
   "metadata": {},
   "outputs": [
    {
     "data": {
      "text/plain": [
       "'mrdoob'"
      ]
     },
     "execution_count": 177,
     "metadata": {},
     "output_type": "execute_result"
    }
   ],
   "source": [
    "a_tags[0].text.strip()"
   ]
  },
  {
   "cell_type": "code",
   "execution_count": 183,
   "id": "3f79073f-3964-4e5a-a04d-6c9ef6c00fa4",
   "metadata": {},
   "outputs": [
    {
     "data": {
      "text/plain": [
       "'three.js'"
      ]
     },
     "execution_count": 183,
     "metadata": {},
     "output_type": "execute_result"
    }
   ],
   "source": [
    "a_tags[1].text.strip()"
   ]
  },
  {
   "cell_type": "code",
   "execution_count": 193,
   "id": "0fdf599b-4772-42cc-a0d0-052b8cbbf166",
   "metadata": {},
   "outputs": [
    {
     "data": {
      "text/plain": [
       "'https://github.com/mrdoob/three.js'"
      ]
     },
     "execution_count": 193,
     "metadata": {},
     "output_type": "execute_result"
    }
   ],
   "source": [
    "repo_url = base_url + a_tags[1]['href']\n",
    "repo_url"
   ]
  },
  {
   "cell_type": "code",
   "execution_count": 195,
   "id": "14a27404-d2bb-4f66-aa39-f884d25c99a1",
   "metadata": {},
   "outputs": [],
   "source": [
    "star_tags = topic_doc.find_all('span', {'class': 'Counter js-social-count'})"
   ]
  },
  {
   "cell_type": "code",
   "execution_count": 197,
   "id": "c42aa456-eeea-42fa-9359-ec92fc6f055b",
   "metadata": {},
   "outputs": [
    {
     "data": {
      "text/plain": [
       "20"
      ]
     },
     "execution_count": 197,
     "metadata": {},
     "output_type": "execute_result"
    }
   ],
   "source": [
    "len(star_tags)"
   ]
  },
  {
   "cell_type": "code",
   "execution_count": 201,
   "id": "129f4f6e-f47b-463e-a173-4eb0a62b2c4d",
   "metadata": {},
   "outputs": [
    {
     "data": {
      "text/plain": [
       "'105k'"
      ]
     },
     "execution_count": 201,
     "metadata": {},
     "output_type": "execute_result"
    }
   ],
   "source": [
    "star_tags[0].text.strip()"
   ]
  },
  {
   "cell_type": "code",
   "execution_count": 229,
   "id": "f8bbc738-20e6-45fe-9222-1d384b01d171",
   "metadata": {},
   "outputs": [],
   "source": [
    "# convert this k into an integer\n",
    "\n",
    "def parse_star_count(stars_str):\n",
    "    stars_str = stars_str.strip()\n",
    "    if stars_str[-1] == 'k':\n",
    "        return int(float(stars_str[:-1]) * 1000)\n",
    "    return int(stars_str) "
   ]
  },
  {
   "cell_type": "code",
   "execution_count": 231,
   "id": "e051aedb-9340-4a52-9459-80748d82c6de",
   "metadata": {},
   "outputs": [
    {
     "data": {
      "text/plain": [
       "105000"
      ]
     },
     "execution_count": 231,
     "metadata": {},
     "output_type": "execute_result"
    }
   ],
   "source": [
    "parse_star_count(star_tags[0].text.strip())"
   ]
  },
  {
   "cell_type": "code",
   "execution_count": 242,
   "id": "490b0d26-6feb-422b-bcbf-1c10c6889c5e",
   "metadata": {},
   "outputs": [],
   "source": [
    "def get_repo_info(h3_tag, star_tags):\n",
    "    # return all the reqd info about a repository\n",
    "    a_tags = h3_tag.find_all('a')\n",
    "    username = a_tags[0].text.strip()\n",
    "    repo_name = a_tags[1].text.strip()\n",
    "    repo_url = base_url + a_tags[1]['href']\n",
    "    stars = parse_star_count(star_tags.text.strip())\n",
    "    return username, repo_name, stars, repo_url"
   ]
  },
  {
   "cell_type": "code",
   "execution_count": 244,
   "id": "00378160-4165-44ce-bfc1-ec7d5f521f94",
   "metadata": {},
   "outputs": [
    {
     "data": {
      "text/plain": [
       "('mrdoob', 'three.js', 105000, 'https://github.com/mrdoob/three.js')"
      ]
     },
     "execution_count": 244,
     "metadata": {},
     "output_type": "execute_result"
    }
   ],
   "source": [
    "get_repo_info(repo_tags[0], star_tags[0])"
   ]
  },
  {
   "cell_type": "code",
   "execution_count": 248,
   "id": "63400c8d-f06e-4833-a96b-2b8b998ff5b3",
   "metadata": {},
   "outputs": [],
   "source": [
    "# for every title_tag\n",
    "topic_repos_dict = {\n",
    "    'username': [],\n",
    "    'repo_name':[],\n",
    "    'stars': [],\n",
    "    'repo_url': []\n",
    "}\n",
    "\n",
    "for i in range(len(repo_tags)):\n",
    "    repo_info = get_repo_info(repo_tags[i], star_tags[i])\n",
    "    topic_repos_dict['username'].append(repo_info[0])\n",
    "             \n",
    "    topic_repos_dict['repo_name'].append(repo_info[1])\n",
    "             \n",
    "    topic_repos_dict['stars'].append(repo_info[2])\n",
    "             \n",
    "    topic_repos_dict['repo_url'].append(repo_info[3])"
   ]
  },
  {
   "cell_type": "code",
   "execution_count": 250,
   "id": "17f86e2d-1fb7-4d70-91f8-2619adb82e02",
   "metadata": {},
   "outputs": [
    {
     "data": {
      "text/plain": [
       "{'username': ['mrdoob',\n",
       "  'pmndrs',\n",
       "  'libgdx',\n",
       "  'BabylonJS',\n",
       "  'FreeCAD',\n",
       "  'ssloy',\n",
       "  'lettier',\n",
       "  'aframevr',\n",
       "  'blender',\n",
       "  'CesiumGS',\n",
       "  '4ian',\n",
       "  'isl-org',\n",
       "  'MonoGame',\n",
       "  'mapbox',\n",
       "  'metafizzy',\n",
       "  'nerfstudio-project',\n",
       "  'timzhang642',\n",
       "  'cocos',\n",
       "  'FyroxEngine',\n",
       "  'domlysz'],\n",
       " 'repo_name': ['three.js',\n",
       "  'react-three-fiber',\n",
       "  'libgdx',\n",
       "  'Babylon.js',\n",
       "  'FreeCAD',\n",
       "  'tinyrenderer',\n",
       "  '3d-game-shaders-for-beginners',\n",
       "  'aframe',\n",
       "  'blender',\n",
       "  'cesium',\n",
       "  'GDevelop',\n",
       "  'Open3D',\n",
       "  'MonoGame',\n",
       "  'mapbox-gl-js',\n",
       "  'zdog',\n",
       "  'nerfstudio',\n",
       "  '3D-Machine-Learning',\n",
       "  'cocos-engine',\n",
       "  'Fyrox',\n",
       "  'BlenderGIS'],\n",
       " 'stars': [105000,\n",
       "  28300,\n",
       "  23800,\n",
       "  23600,\n",
       "  23300,\n",
       "  21300,\n",
       "  18400,\n",
       "  16900,\n",
       "  14300,\n",
       "  13300,\n",
       "  13000,\n",
       "  12000,\n",
       "  11800,\n",
       "  11400,\n",
       "  10400,\n",
       "  9900,\n",
       "  9900,\n",
       "  8400,\n",
       "  8100,\n",
       "  8000],\n",
       " 'repo_url': ['https://github.com/mrdoob/three.js',\n",
       "  'https://github.com/pmndrs/react-three-fiber',\n",
       "  'https://github.com/libgdx/libgdx',\n",
       "  'https://github.com/BabylonJS/Babylon.js',\n",
       "  'https://github.com/FreeCAD/FreeCAD',\n",
       "  'https://github.com/ssloy/tinyrenderer',\n",
       "  'https://github.com/lettier/3d-game-shaders-for-beginners',\n",
       "  'https://github.com/aframevr/aframe',\n",
       "  'https://github.com/blender/blender',\n",
       "  'https://github.com/CesiumGS/cesium',\n",
       "  'https://github.com/4ian/GDevelop',\n",
       "  'https://github.com/isl-org/Open3D',\n",
       "  'https://github.com/MonoGame/MonoGame',\n",
       "  'https://github.com/mapbox/mapbox-gl-js',\n",
       "  'https://github.com/metafizzy/zdog',\n",
       "  'https://github.com/nerfstudio-project/nerfstudio',\n",
       "  'https://github.com/timzhang642/3D-Machine-Learning',\n",
       "  'https://github.com/cocos/cocos-engine',\n",
       "  'https://github.com/FyroxEngine/Fyrox',\n",
       "  'https://github.com/domlysz/BlenderGIS']}"
      ]
     },
     "execution_count": 250,
     "metadata": {},
     "output_type": "execute_result"
    }
   ],
   "source": [
    "topic_repos_dict"
   ]
  },
  {
   "cell_type": "code",
   "execution_count": 252,
   "id": "a27d64fd-35c8-4fa1-9ae8-d65b16d81f6b",
   "metadata": {},
   "outputs": [
    {
     "data": {
      "text/html": [
       "<div>\n",
       "<style scoped>\n",
       "    .dataframe tbody tr th:only-of-type {\n",
       "        vertical-align: middle;\n",
       "    }\n",
       "\n",
       "    .dataframe tbody tr th {\n",
       "        vertical-align: top;\n",
       "    }\n",
       "\n",
       "    .dataframe thead th {\n",
       "        text-align: right;\n",
       "    }\n",
       "</style>\n",
       "<table border=\"1\" class=\"dataframe\">\n",
       "  <thead>\n",
       "    <tr style=\"text-align: right;\">\n",
       "      <th></th>\n",
       "      <th>username</th>\n",
       "      <th>repo_name</th>\n",
       "      <th>stars</th>\n",
       "      <th>repo_url</th>\n",
       "    </tr>\n",
       "  </thead>\n",
       "  <tbody>\n",
       "    <tr>\n",
       "      <th>0</th>\n",
       "      <td>mrdoob</td>\n",
       "      <td>three.js</td>\n",
       "      <td>105000</td>\n",
       "      <td>https://github.com/mrdoob/three.js</td>\n",
       "    </tr>\n",
       "    <tr>\n",
       "      <th>1</th>\n",
       "      <td>pmndrs</td>\n",
       "      <td>react-three-fiber</td>\n",
       "      <td>28300</td>\n",
       "      <td>https://github.com/pmndrs/react-three-fiber</td>\n",
       "    </tr>\n",
       "    <tr>\n",
       "      <th>2</th>\n",
       "      <td>libgdx</td>\n",
       "      <td>libgdx</td>\n",
       "      <td>23800</td>\n",
       "      <td>https://github.com/libgdx/libgdx</td>\n",
       "    </tr>\n",
       "    <tr>\n",
       "      <th>3</th>\n",
       "      <td>BabylonJS</td>\n",
       "      <td>Babylon.js</td>\n",
       "      <td>23600</td>\n",
       "      <td>https://github.com/BabylonJS/Babylon.js</td>\n",
       "    </tr>\n",
       "    <tr>\n",
       "      <th>4</th>\n",
       "      <td>FreeCAD</td>\n",
       "      <td>FreeCAD</td>\n",
       "      <td>23300</td>\n",
       "      <td>https://github.com/FreeCAD/FreeCAD</td>\n",
       "    </tr>\n",
       "    <tr>\n",
       "      <th>5</th>\n",
       "      <td>ssloy</td>\n",
       "      <td>tinyrenderer</td>\n",
       "      <td>21300</td>\n",
       "      <td>https://github.com/ssloy/tinyrenderer</td>\n",
       "    </tr>\n",
       "    <tr>\n",
       "      <th>6</th>\n",
       "      <td>lettier</td>\n",
       "      <td>3d-game-shaders-for-beginners</td>\n",
       "      <td>18400</td>\n",
       "      <td>https://github.com/lettier/3d-game-shaders-for...</td>\n",
       "    </tr>\n",
       "    <tr>\n",
       "      <th>7</th>\n",
       "      <td>aframevr</td>\n",
       "      <td>aframe</td>\n",
       "      <td>16900</td>\n",
       "      <td>https://github.com/aframevr/aframe</td>\n",
       "    </tr>\n",
       "    <tr>\n",
       "      <th>8</th>\n",
       "      <td>blender</td>\n",
       "      <td>blender</td>\n",
       "      <td>14300</td>\n",
       "      <td>https://github.com/blender/blender</td>\n",
       "    </tr>\n",
       "    <tr>\n",
       "      <th>9</th>\n",
       "      <td>CesiumGS</td>\n",
       "      <td>cesium</td>\n",
       "      <td>13300</td>\n",
       "      <td>https://github.com/CesiumGS/cesium</td>\n",
       "    </tr>\n",
       "    <tr>\n",
       "      <th>10</th>\n",
       "      <td>4ian</td>\n",
       "      <td>GDevelop</td>\n",
       "      <td>13000</td>\n",
       "      <td>https://github.com/4ian/GDevelop</td>\n",
       "    </tr>\n",
       "    <tr>\n",
       "      <th>11</th>\n",
       "      <td>isl-org</td>\n",
       "      <td>Open3D</td>\n",
       "      <td>12000</td>\n",
       "      <td>https://github.com/isl-org/Open3D</td>\n",
       "    </tr>\n",
       "    <tr>\n",
       "      <th>12</th>\n",
       "      <td>MonoGame</td>\n",
       "      <td>MonoGame</td>\n",
       "      <td>11800</td>\n",
       "      <td>https://github.com/MonoGame/MonoGame</td>\n",
       "    </tr>\n",
       "    <tr>\n",
       "      <th>13</th>\n",
       "      <td>mapbox</td>\n",
       "      <td>mapbox-gl-js</td>\n",
       "      <td>11400</td>\n",
       "      <td>https://github.com/mapbox/mapbox-gl-js</td>\n",
       "    </tr>\n",
       "    <tr>\n",
       "      <th>14</th>\n",
       "      <td>metafizzy</td>\n",
       "      <td>zdog</td>\n",
       "      <td>10400</td>\n",
       "      <td>https://github.com/metafizzy/zdog</td>\n",
       "    </tr>\n",
       "    <tr>\n",
       "      <th>15</th>\n",
       "      <td>nerfstudio-project</td>\n",
       "      <td>nerfstudio</td>\n",
       "      <td>9900</td>\n",
       "      <td>https://github.com/nerfstudio-project/nerfstudio</td>\n",
       "    </tr>\n",
       "    <tr>\n",
       "      <th>16</th>\n",
       "      <td>timzhang642</td>\n",
       "      <td>3D-Machine-Learning</td>\n",
       "      <td>9900</td>\n",
       "      <td>https://github.com/timzhang642/3D-Machine-Lear...</td>\n",
       "    </tr>\n",
       "    <tr>\n",
       "      <th>17</th>\n",
       "      <td>cocos</td>\n",
       "      <td>cocos-engine</td>\n",
       "      <td>8400</td>\n",
       "      <td>https://github.com/cocos/cocos-engine</td>\n",
       "    </tr>\n",
       "    <tr>\n",
       "      <th>18</th>\n",
       "      <td>FyroxEngine</td>\n",
       "      <td>Fyrox</td>\n",
       "      <td>8100</td>\n",
       "      <td>https://github.com/FyroxEngine/Fyrox</td>\n",
       "    </tr>\n",
       "    <tr>\n",
       "      <th>19</th>\n",
       "      <td>domlysz</td>\n",
       "      <td>BlenderGIS</td>\n",
       "      <td>8000</td>\n",
       "      <td>https://github.com/domlysz/BlenderGIS</td>\n",
       "    </tr>\n",
       "  </tbody>\n",
       "</table>\n",
       "</div>"
      ],
      "text/plain": [
       "              username                      repo_name   stars  \\\n",
       "0               mrdoob                       three.js  105000   \n",
       "1               pmndrs              react-three-fiber   28300   \n",
       "2               libgdx                         libgdx   23800   \n",
       "3            BabylonJS                     Babylon.js   23600   \n",
       "4              FreeCAD                        FreeCAD   23300   \n",
       "5                ssloy                   tinyrenderer   21300   \n",
       "6              lettier  3d-game-shaders-for-beginners   18400   \n",
       "7             aframevr                         aframe   16900   \n",
       "8              blender                        blender   14300   \n",
       "9             CesiumGS                         cesium   13300   \n",
       "10                4ian                       GDevelop   13000   \n",
       "11             isl-org                         Open3D   12000   \n",
       "12            MonoGame                       MonoGame   11800   \n",
       "13              mapbox                   mapbox-gl-js   11400   \n",
       "14           metafizzy                           zdog   10400   \n",
       "15  nerfstudio-project                     nerfstudio    9900   \n",
       "16         timzhang642            3D-Machine-Learning    9900   \n",
       "17               cocos                   cocos-engine    8400   \n",
       "18         FyroxEngine                          Fyrox    8100   \n",
       "19             domlysz                     BlenderGIS    8000   \n",
       "\n",
       "                                             repo_url  \n",
       "0                  https://github.com/mrdoob/three.js  \n",
       "1         https://github.com/pmndrs/react-three-fiber  \n",
       "2                    https://github.com/libgdx/libgdx  \n",
       "3             https://github.com/BabylonJS/Babylon.js  \n",
       "4                  https://github.com/FreeCAD/FreeCAD  \n",
       "5               https://github.com/ssloy/tinyrenderer  \n",
       "6   https://github.com/lettier/3d-game-shaders-for...  \n",
       "7                  https://github.com/aframevr/aframe  \n",
       "8                  https://github.com/blender/blender  \n",
       "9                  https://github.com/CesiumGS/cesium  \n",
       "10                   https://github.com/4ian/GDevelop  \n",
       "11                  https://github.com/isl-org/Open3D  \n",
       "12               https://github.com/MonoGame/MonoGame  \n",
       "13             https://github.com/mapbox/mapbox-gl-js  \n",
       "14                  https://github.com/metafizzy/zdog  \n",
       "15   https://github.com/nerfstudio-project/nerfstudio  \n",
       "16  https://github.com/timzhang642/3D-Machine-Lear...  \n",
       "17              https://github.com/cocos/cocos-engine  \n",
       "18               https://github.com/FyroxEngine/Fyrox  \n",
       "19              https://github.com/domlysz/BlenderGIS  "
      ]
     },
     "execution_count": 252,
     "metadata": {},
     "output_type": "execute_result"
    }
   ],
   "source": [
    "# convert it into dataframe\n",
    "\n",
    "topic_repos_df = pd.DataFrame(topic_repos_dict)\n",
    "topic_repos_df"
   ]
  },
  {
   "cell_type": "raw",
   "id": "9c3158b7-fe41-4fcb-909b-d756e7925bed",
   "metadata": {},
   "source": [
    "Though, this df is just for topic '3d', we want the same for all topics."
   ]
  },
  {
   "cell_type": "markdown",
   "id": "32c5644f-f1a6-45fe-9fcd-145f3bfb7b31",
   "metadata": {},
   "source": [
    "## Final Code"
   ]
  },
  {
   "cell_type": "raw",
   "id": "0cd5aa72-5a13-4016-b398-f204bc47bc69",
   "metadata": {},
   "source": [
    "Image added with the help of https://imgur.com/"
   ]
  },
  {
   "cell_type": "markdown",
   "id": "fd0e4922-a2f9-4ef3-8fc8-9da512202a80",
   "metadata": {},
   "source": [
    "To get topic titles, we can pick `p` tags with the `class - f3 lh-condensed mb-0 mt-1 Link--primary`\n",
    "\n",
    "![](https://i.imgur.com/DOJxbbw.png)"
   ]
  },
  {
   "cell_type": "code",
   "execution_count": 367,
   "id": "98910d24-e089-4ce3-a187-2dfa15d97939",
   "metadata": {},
   "outputs": [],
   "source": [
    "def get_topic_page(topic_url):\n",
    "    # Download the page\n",
    "    response = requests.get(topic_url)\n",
    "    # Check successful response\n",
    "    if response.status_code != 200:\n",
    "        raise Exception('Failed to load page {}'.format(topic_url))\n",
    "    # Parse using Beautiful Soup\n",
    "    topic_doc = BeautifulSoup(response.text, 'html.parser')\n",
    "    return topic_doc\n",
    "    \n",
    "def get_repo_info(h3_tag, star_tags):\n",
    "    # return all the reqd info about a repository\n",
    "    a_tags = h3_tag.find_all('a')\n",
    "    username = a_tags[0].text.strip()\n",
    "    repo_name = a_tags[1].text.strip()\n",
    "    repo_url = base_url + a_tags[1]['href']\n",
    "    stars = parse_star_count(star_tags.text.strip())\n",
    "    return username, repo_name, stars, repo_url\n",
    "    \n",
    "def get_topic_repos(topic_doc):\n",
    "    \n",
    "    # Get the h3 tags containing repo title, username and repo URL\n",
    "    h3_selection_class = 'f3 color-fg-muted text-normal lh-condensed'\n",
    "    repo_tags = topic_doc.find_all('h3', {'class': h3_selection_class})\n",
    "\n",
    "    # Get Star tags\n",
    "    star_tags = topic_doc.find_all('span', {'class': 'Counter js-social-count'})\n",
    "\n",
    "    # Get repo info\n",
    "    topic_repos_dict = {\n",
    "        'username': [],\n",
    "        'repo_name':[],\n",
    "        'stars': [],\n",
    "        'repo_url': []\n",
    "    }\n",
    "    \n",
    "    for i in range(len(repo_tags)):\n",
    "        repo_info = get_repo_info(repo_tags[i], star_tags[i])\n",
    "        topic_repos_dict['username'].append(repo_info[0])       \n",
    "        topic_repos_dict['repo_name'].append(repo_info[1])\n",
    "        topic_repos_dict['stars'].append(repo_info[2])\n",
    "        topic_repos_dict['repo_url'].append(repo_info[3])\n",
    "\n",
    "    return pd.DataFrame(topic_repos_dict)\n",
    "\n",
    "import os\n",
    "def scrape_topic(topic_url, path):\n",
    "    if os.path.exists(path):\n",
    "        print('The file {} already exists. Skipping...'.format(path))\n",
    "        return \n",
    "    topic_df = get_topic_repos(get_topic_page(topic_url))\n",
    "    topic_df.to_csv(path + '.csv', index = None)"
   ]
  },
  {
   "cell_type": "code",
   "execution_count": null,
   "id": "55e7388c-747b-4de5-bb82-7f6b6d7b2aa5",
   "metadata": {},
   "outputs": [],
   "source": []
  },
  {
   "cell_type": "code",
   "execution_count": 322,
   "id": "77adb93b-bd84-4d3b-9d32-4727f680a4be",
   "metadata": {},
   "outputs": [
    {
     "data": {
      "text/plain": [
       "'https://github.com/topics/ansible'"
      ]
     },
     "execution_count": 322,
     "metadata": {},
     "output_type": "execute_result"
    }
   ],
   "source": [
    "topic_urls[6]"
   ]
  },
  {
   "cell_type": "code",
   "execution_count": 308,
   "id": "4772fbd0-9d4f-4f4c-a8bb-77c3abf38955",
   "metadata": {},
   "outputs": [],
   "source": [
    "get_topic_repos(get_topic_page(topic_urls[6])).to_csv('ansible.csv', index = None)"
   ]
  },
  {
   "cell_type": "markdown",
   "id": "de734e12-f7d1-4192-9381-39f751d59dac",
   "metadata": {},
   "source": [
    "Write a single function to:\n",
    "1. Get the list of topics from the topics page\n",
    "2. Get the list of top repos from individual topic pages\n",
    "3. For each topic, create a CSV of the top repos for the topic"
   ]
  },
  {
   "cell_type": "code",
   "execution_count": 324,
   "id": "26ec205e-eb4a-4188-a1f1-2e1feea73673",
   "metadata": {},
   "outputs": [],
   "source": [
    "def get_topic_titles(doc):\n",
    "    selection_class = 'f3 lh-condensed mb-0 mt-1 Link--primary'\n",
    "    topic_title_tags = doc.find_all('p', {'class': selection_class})\n",
    "    topic_titles = []\n",
    "    for tag in topic_title_tags:\n",
    "        topic_titles.append(tag.text)\n",
    "    return topic_titles\n",
    "\n",
    "def get_topic_descs(doc):\n",
    "    desc_selector = 'f5 color-fg-muted mb-0 mt-1'\n",
    "    topic_desc_tags = doc.find_all('p', {'class': desc_selector})\n",
    "    topic_descriptions = []\n",
    "    for tag in topic_desc_tags:\n",
    "        topic_descriptions.append(tag.text.strip())\n",
    "    return topic_descriptions\n",
    "\n",
    "def get_topic_urls(doc):\n",
    "    topic_link_tags = doc.find_all('a', {'class' : 'no-underline flex-1 d-flex flex-column'})\n",
    "    topic_urls = []\n",
    "    base_url = 'https://github.com'\n",
    "    for tag in topic_link_tags:\n",
    "        topic_urls.append(base_url + tag['href'])\n",
    "    return topic_urls\n",
    "\n",
    "def scrape_topics():\n",
    "    topics_url = 'https://github.com/topics'\n",
    "    response = requests.get(topics_url)\n",
    "    if response.status_code != 200:\n",
    "        raise Exception('Failed to load page {}'.format(topic_url))\n",
    "    topics_dict = {\n",
    "        'title': get_topic_titles(doc),\n",
    "        'description': get_topic_descs(doc),\n",
    "        'url': get_topic_urls(doc)\n",
    "    }\n",
    "    return pd.DataFrame(topics_dict)\n",
    "\n"
   ]
  },
  {
   "cell_type": "code",
   "execution_count": 356,
   "id": "968a33c5-1dff-488d-bd95-e43f81bd7b8a",
   "metadata": {},
   "outputs": [],
   "source": [
    "def scrape_topic_repos():\n",
    "    print('Scraping List of Topics:')\n",
    "    topics_df = scrape_topics()\n",
    "\n",
    "    os.makedirs('Github_Topics_data', exist_ok= True)\n",
    "    \n",
    "    for index, row in topics_df.iterrows():\n",
    "        print('Scraping top repositories for \"{}\"'.format(row['title']))\n",
    "        scrape_topic(row['url'], 'Github_Topics_data/{}.csv'.format(row['title']))"
   ]
  },
  {
   "cell_type": "code",
   "execution_count": 358,
   "id": "beea2d18-b725-4f16-8a63-3e2261cccdaa",
   "metadata": {},
   "outputs": [
    {
     "name": "stdout",
     "output_type": "stream",
     "text": [
      "Scraping List of Topics:\n",
      "Scraping top repositories for \"3D\"\n",
      "Scraping top repositories for \"Ajax\"\n",
      "Scraping top repositories for \"Algorithm\"\n",
      "Scraping top repositories for \"Amp\"\n",
      "Scraping top repositories for \"Android\"\n",
      "Scraping top repositories for \"Angular\"\n",
      "Scraping top repositories for \"Ansible\"\n",
      "Scraping top repositories for \"API\"\n",
      "Scraping top repositories for \"Arduino\"\n",
      "Scraping top repositories for \"ASP.NET\"\n",
      "Scraping top repositories for \"Awesome Lists\"\n",
      "Scraping top repositories for \"Amazon Web Services\"\n",
      "Scraping top repositories for \"Azure\"\n",
      "Scraping top repositories for \"Babel\"\n",
      "Scraping top repositories for \"Bash\"\n",
      "Scraping top repositories for \"Bitcoin\"\n",
      "Scraping top repositories for \"Bootstrap\"\n",
      "Scraping top repositories for \"Bot\"\n",
      "Scraping top repositories for \"C\"\n",
      "Scraping top repositories for \"Chrome\"\n",
      "Scraping top repositories for \"Chrome extension\"\n",
      "Scraping top repositories for \"Command-line interface\"\n",
      "Scraping top repositories for \"Clojure\"\n",
      "Scraping top repositories for \"Code quality\"\n",
      "Scraping top repositories for \"Code review\"\n",
      "Scraping top repositories for \"Compiler\"\n",
      "Scraping top repositories for \"Continuous integration\"\n",
      "Scraping top repositories for \"C++\"\n",
      "Scraping top repositories for \"Cryptocurrency\"\n",
      "Scraping top repositories for \"Crystal\"\n"
     ]
    }
   ],
   "source": [
    "scrape_topic_repos()"
   ]
  },
  {
   "cell_type": "code",
   "execution_count": null,
   "id": "1a18705b-6094-4762-8e82-f53eef60e3d9",
   "metadata": {},
   "outputs": [],
   "source": []
  }
 ],
 "metadata": {
  "kernelspec": {
   "display_name": "Python 3 (ipykernel)",
   "language": "python",
   "name": "python3"
  },
  "language_info": {
   "codemirror_mode": {
    "name": "ipython",
    "version": 3
   },
   "file_extension": ".py",
   "mimetype": "text/x-python",
   "name": "python",
   "nbconvert_exporter": "python",
   "pygments_lexer": "ipython3",
   "version": "3.12.7"
  }
 },
 "nbformat": 4,
 "nbformat_minor": 5
}
